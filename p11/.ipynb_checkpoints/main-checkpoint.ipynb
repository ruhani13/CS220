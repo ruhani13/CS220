{
 "cells": [
  {
   "cell_type": "code",
   "execution_count": 1,
   "metadata": {},
   "outputs": [],
   "source": [
    "# project: p11\n",
    "# submitter: rarora23 \n",
    "# partner: none"
   ]
  },
  {
   "cell_type": "code",
   "execution_count": 2,
   "metadata": {},
   "outputs": [],
   "source": [
    "from cleanMAC import * \n",
    "clean()\n",
    "import os, json, csv\n",
    "from collections import namedtuple\n",
    "\n",
    "#imported from lab-11\n",
    "import pandas as pd\n",
    "\n",
    "def scatter(x, y, xlabel=\"please label me!\", ylabel=\"please label me!\"):\n",
    "    df = pd.DataFrame({\"x\":x, \"y\":y})\n",
    "    ax = df.plot.scatter(x=\"x\", y=\"y\", color=\"black\", fontsize=16, xlim=0, ylim=0)\n",
    "    ax.set_xlabel(xlabel, fontsize=16)\n",
    "    ax.set_ylabel(ylabel, fontsize=16)\n",
    "    ax.get_xaxis().get_major_formatter().set_scientific(False)\n",
    "    ax.get_yaxis().get_major_formatter().set_scientific(False)"
   ]
  },
  {
   "cell_type": "code",
   "execution_count": 3,
   "metadata": {},
   "outputs": [],
   "source": [
    "#functions created for p10 added in the cell to be further used in p11\n",
    "def data(direct):\n",
    "    contents = os.listdir(direct)\n",
    "    contents.sort(reverse = True)\n",
    "    return contents\n",
    "full_data = data(\"full_data\")\n",
    "\n",
    "def path(data1,direct_content):\n",
    "    paths = []\n",
    "    for file in direct_content:\n",
    "        paths.append(os.path.join(data1, file))\n",
    "    return paths\n",
    "full_paths =path(\"full_data\",full_data)  \n",
    "\n",
    "Tweet  = namedtuple(\"Tweet\", [\"tweet_id\",\"username\", \"num_liked\",\"length\"])\n",
    "def tweets_present(data_type,file):\n",
    "    f = open(os.path.join(data_type, file), encoding=\"utf-8\")\n",
    "    reader = csv.DictReader(f)\n",
    "    tweets_list = []\n",
    "    for row in reader:\n",
    "        try:\n",
    "            tweet_id = row[\"tweet_id\"]\n",
    "            username = row[\"username\"]\n",
    "            num_liked = int(row[\"num_liked\"])\n",
    "            length = int(len(row[\"tweet_text\"]))\n",
    "            t = Tweet(tweet_id, username, num_liked, length) \n",
    "            tweets_list.append(t)\n",
    "        except:\n",
    "            continue\n",
    "    f.close()\n",
    "    return tweets_list\n",
    "\n",
    "Tweet  = namedtuple(\"Tweet\", [\"tweet_id\",\"username\", \"num_liked\",\"length\"])\n",
    "def read_json(path, file):\n",
    "    if file == None:\n",
    "        f = open(path, encoding=\"utf-8\")\n",
    "    else:\n",
    "        f = open(os.path.join(path, file), encoding=\"utf-8\")\n",
    "        \n",
    "    json_str = f.read()\n",
    "    data = json.loads(json_str)\n",
    "    tweets_list2 = []\n",
    "    for i in data:\n",
    "        try:\n",
    "            tweet_id = i\n",
    "            username = data[i][\"username\"]\n",
    "            length = int(len(data[i][\"tweet_text\"]))            \n",
    "            num_liked = data[i][\"num_liked\"]            \n",
    "            t = Tweet(tweet_id, username, num_liked, length) \n",
    "            tweets_list2.append(t)\n",
    "        except:\n",
    "            continue\n",
    "    f.close()\n",
    "    return tweets_list2\n",
    "\n",
    "Tweet  = namedtuple(\"Tweet\", [\"tweet_id\",\"username\", \"num_liked\",\"length\"])\n",
    "tweet_last = []\n",
    "for vals in full_paths:\n",
    "    file_type = vals.split(\".\")[-1]\n",
    "    try:\n",
    "        if file_type == \"json\":\n",
    "            tweet_last.extend(read_json(\"full_data\",os.path.basename(vals)))\n",
    "        if file_type == \"csv\":\n",
    "            tweet_last.extend(tweets_present(\"full_data\",os.path.basename(vals)))\n",
    "        else:\n",
    "            continue \n",
    "    except:\n",
    "        continue"
   ]
  },
  {
   "cell_type": "code",
   "execution_count": 4,
   "metadata": {},
   "outputs": [
    {
     "data": {
      "text/plain": [
       "445"
      ]
     },
     "execution_count": 4,
     "metadata": {},
     "output_type": "execute_result"
    }
   ],
   "source": [
    "#q1 How many tweets are present in total?\n",
    "count = 0\n",
    "for tweets in tweet_last:\n",
    "    count+=1\n",
    "count"
   ]
  },
  {
   "cell_type": "code",
   "execution_count": 5,
   "metadata": {},
   "outputs": [
    {
     "data": {
      "text/plain": [
       "{'USERID_1',\n",
       " 'USERID_10',\n",
       " 'USERID_2',\n",
       " 'USERID_3',\n",
       " 'USERID_4',\n",
       " 'USERID_5',\n",
       " 'USERID_6',\n",
       " 'USERID_7',\n",
       " 'USERID_8',\n",
       " 'USERID_9'}"
      ]
     },
     "execution_count": 5,
     "metadata": {},
     "output_type": "execute_result"
    }
   ],
   "source": [
    "#q2 Which usernames appear in the dataset?\n",
    "user = []\n",
    "for tweet in tweet_last:\n",
    "    if tweet.username not in tweet_last:\n",
    "        user.append(tweet.username)    \n",
    "user_dataset =set(user)\n",
    "user_dataset"
   ]
  },
  {
   "cell_type": "code",
   "execution_count": 6,
   "metadata": {},
   "outputs": [
    {
     "data": {
      "text/plain": [
       "{'USERID_1': 52,\n",
       " 'USERID_7': 55,\n",
       " 'USERID_10': 45,\n",
       " 'USERID_9': 44,\n",
       " 'USERID_4': 35,\n",
       " 'USERID_6': 51,\n",
       " 'USERID_3': 39,\n",
       " 'USERID_2': 47,\n",
       " 'USERID_5': 46,\n",
       " 'USERID_8': 31}"
      ]
     },
     "execution_count": 6,
     "metadata": {},
     "output_type": "execute_result"
    }
   ],
   "source": [
    "#q3 How prolific is each user?\n",
    "prof_user_list = []\n",
    "prof_user_dict = {}\n",
    "for usrs in tweet_last:\n",
    "    if usrs.username not in tweet_last:\n",
    "        prof_user_list.append(usrs.username)\n",
    "for users in prof_user_list:\n",
    "    if users not in prof_user_dict:\n",
    "        prof_user_dict[users] = 1\n",
    "    else:\n",
    "        prof_user_dict[users] += 1\n",
    "prof_user_dict        "
   ]
  },
  {
   "cell_type": "code",
   "execution_count": 7,
   "metadata": {},
   "outputs": [],
   "source": [
    "#these functions are created to be used in further problems \n",
    "\n",
    "#buckets code has been used with refrence from mike's lecture \n",
    "def bucks(list_name):\n",
    "    buckets_new = {}\n",
    "    for most_liked in list_name:\n",
    "        usr2 = most_liked.username\n",
    "        if not usr2 in buckets_new:\n",
    "            buckets_new[usr2] = []\n",
    "        buckets_new[usr2].append(most_liked)\n",
    "    return buckets_new\n",
    "buckets = bucks(tweet_last)\n",
    "\n",
    "#function to find highest like\n",
    "def liking(bucket):\n",
    "    likes_dict = {}\n",
    "    for key in bucket:\n",
    "        value = 0\n",
    "        bucket[key]\n",
    "        for i in bucket[key]:\n",
    "            if likes(i.num_liked) > value:\n",
    "                value = likes(i.num_liked)\n",
    "        likes_dict[key] = value\n",
    "    return likes_dict\n",
    "\n",
    "#likes function previously used in p10 \n",
    "def likes(num_like_val):\n",
    "    if type(num_like_val) == int:\n",
    "        return num_like_val\n",
    "    elif num_like_val[:-1].isnumeric():\n",
    "        if str(num_like_val)[-1].lower() == 'm':\n",
    "            return (int) (float (num_like_val[:-1])*10**6)\n",
    "        elif str(num_like_val)[-1].lower() == 'k':\n",
    "            return (int) (float (num_like_val[:-1])*10**3)\n",
    "    else: \n",
    "        return 0"
   ]
  },
  {
   "cell_type": "code",
   "execution_count": 8,
   "metadata": {},
   "outputs": [
    {
     "data": {
      "text/plain": [
       "{'USERID_1': 9393,\n",
       " 'USERID_7': 9851,\n",
       " 'USERID_10': 9936,\n",
       " 'USERID_9': 9728,\n",
       " 'USERID_4': 9618,\n",
       " 'USERID_6': 9149,\n",
       " 'USERID_3': 9678,\n",
       " 'USERID_2': 869000000,\n",
       " 'USERID_5': 9608,\n",
       " 'USERID_8': 915000}"
      ]
     },
     "execution_count": 8,
     "metadata": {},
     "output_type": "execute_result"
    }
   ],
   "source": [
    "#q4 What is the largest number of likes received on a tweet for each user?\n",
    "largest_likes = liking(buckets)\n",
    "largest_likes"
   ]
  },
  {
   "cell_type": "code",
   "execution_count": 9,
   "metadata": {},
   "outputs": [
    {
     "data": {
      "text/plain": [
       "{'USERID_1': 150,\n",
       " 'USERID_7': 144,\n",
       " 'USERID_10': 136,\n",
       " 'USERID_9': 137,\n",
       " 'USERID_4': 138,\n",
       " 'USERID_6': 145,\n",
       " 'USERID_3': 138,\n",
       " 'USERID_2': 138,\n",
       " 'USERID_5': 146,\n",
       " 'USERID_8': 145}"
      ]
     },
     "execution_count": 9,
     "metadata": {},
     "output_type": "execute_result"
    }
   ],
   "source": [
    "#q5 What is the length of the longest tweet for each user?\n",
    "longest_tweet = {}\n",
    "for keys in bucks(tweet_last):\n",
    "    count = 0\n",
    "    buckets[keys]\n",
    "    for i in buckets[keys]:\n",
    "        if i.length > count:\n",
    "            count = i.length\n",
    "    longest_tweet[keys] = count          \n",
    "longest_tweet  "
   ]
  },
  {
   "cell_type": "code",
   "execution_count": 10,
   "metadata": {},
   "outputs": [
    {
     "data": {
      "image/png": "[encoded data removed]",
      "text/plain": [
       "<Figure size 432x288 with 1 Axes>"
      ]
     },
     "metadata": {
      "needs_background": "light"
     },
     "output_type": "display_data"
    }
   ],
   "source": [
    "#q6 What is the relationship between the number of tweets by a user and the length of their longest tweet?\n",
    "scatter(prof_user_dict,longest_tweet,\"Number of tweets\",\"Longest Length\")"
   ]
  },
  {
   "cell_type": "code",
   "execution_count": 11,
   "metadata": {},
   "outputs": [
    {
     "data": {
      "image/png": "[encoded data removed]",
      "text/plain": [
       "<Figure size 432x288 with 1 Axes>"
      ]
     },
     "metadata": {
      "needs_background": "light"
     },
     "output_type": "display_data"
    }
   ],
   "source": [
    "#q7 What is the relationship between the number of tweets and the largest number of likes?\n",
    "scatter(prof_user_dict,largest_likes,\"Number of tweets\",\"Largest Likes\")"
   ]
  },
  {
   "cell_type": "code",
   "execution_count": 12,
   "metadata": {},
   "outputs": [
    {
     "data": {
      "image/png": "[encoded data removed]",
      "text/plain": [
       "<Figure size 432x288 with 1 Axes>"
      ]
     },
     "metadata": {
      "needs_background": "light"
     },
     "output_type": "display_data"
    }
   ],
   "source": [
    "#q8 What is the relationship between the length of their longest tweet and the largest number of likes?\n",
    "scatter(longest_tweet,largest_likes,\"Longest Length\",\"Largest Likes\")"
   ]
  },
  {
   "cell_type": "code",
   "execution_count": 13,
   "metadata": {},
   "outputs": [
    {
     "data": {
      "text/plain": [
       "'USERID_2'"
      ]
     },
     "execution_count": 13,
     "metadata": {},
     "output_type": "execute_result"
    }
   ],
   "source": [
    "#q9 What is the username of the user represented by the outlier in the last two plots?\n",
    "comp = 0\n",
    "outlier_user = \"\"\n",
    "for x in largest_likes:\n",
    "    if largest_likes[x] > comp:\n",
    "        comp = largest_likes[x]\n",
    "        outlier_user = x\n",
    "\n",
    "outlier_user "
   ]
  },
  {
   "cell_type": "code",
   "execution_count": 14,
   "metadata": {},
   "outputs": [
    {
     "data": {
      "text/plain": [
       "[Tweet(tweet_id='1467894593', username='USERID_2', num_liked='869M', length=136),\n",
       " Tweet(tweet_id='1467875163', username='USERID_2', num_liked=9891, length=69),\n",
       " Tweet(tweet_id='1467862806', username='USERID_2', num_liked=9465, length=68),\n",
       " Tweet(tweet_id='1467907751', username='USERID_2', num_liked=9048, length=110),\n",
       " Tweet(tweet_id='1467928764', username='USERID_2', num_liked=9026, length=41),\n",
       " Tweet(tweet_id='1467943007', username='USERID_2', num_liked=9000, length=130),\n",
       " Tweet(tweet_id='1467918682', username='USERID_2', num_liked=8884, length=102),\n",
       " Tweet(tweet_id='1467935121', username='USERID_2', num_liked=8740, length=37),\n",
       " Tweet(tweet_id='1467947913', username='USERID_2', num_liked=8578, length=36),\n",
       " Tweet(tweet_id='1467892667', username='USERID_2', num_liked=8270, length=20),\n",
       " Tweet(tweet_id='1467897316', username='USERID_2', num_liked=7890, length=64),\n",
       " Tweet(tweet_id='1467854917', username='USERID_2', num_liked=7741, length=30),\n",
       " Tweet(tweet_id='1467961106', username='USERID_2', num_liked=7552, length=65),\n",
       " Tweet(tweet_id='1467951252', username='USERID_2', num_liked=7515, length=48),\n",
       " Tweet(tweet_id='1467889988', username='USERID_2', num_liked=7394, length=51),\n",
       " Tweet(tweet_id='1467916959', username='USERID_2', num_liked=7081, length=69),\n",
       " Tweet(tweet_id='1467874916', username='USERID_2', num_liked=6935, length=23),\n",
       " Tweet(tweet_id='1467855981', username='USERID_2', num_liked=6455, length=92),\n",
       " Tweet(tweet_id='1467872247', username='USERID_2', num_liked=6316, length=137),\n",
       " Tweet(tweet_id='1467918850', username='USERID_2', num_liked=5383, length=103),\n",
       " Tweet(tweet_id='1467919055', username='USERID_2', num_liked=5370, length=68),\n",
       " Tweet(tweet_id='1467915670', username='USERID_2', num_liked=5287, length=138),\n",
       " Tweet(tweet_id='1467880442', username='USERID_2', num_liked=5125, length=96),\n",
       " Tweet(tweet_id='1467896253', username='USERID_2', num_liked=4906, length=91),\n",
       " Tweet(tweet_id='1467962897', username='USERID_2', num_liked=4898, length=98),\n",
       " Tweet(tweet_id='1467855812', username='USERID_2', num_liked=4806, length=28),\n",
       " Tweet(tweet_id='1467930220', username='USERID_2', num_liked=4770, length=94),\n",
       " Tweet(tweet_id='1467852031', username='USERID_2', num_liked=4565, length=63),\n",
       " Tweet(tweet_id='1467905378', username='USERID_2', num_liked=4420, length=111),\n",
       " Tweet(tweet_id='1467877833', username='USERID_2', num_liked=4270, length=89),\n",
       " Tweet(tweet_id='1467870866', username='USERID_2', num_liked=4166, length=82),\n",
       " Tweet(tweet_id='1467879984', username='USERID_2', num_liked=3694, length=69),\n",
       " Tweet(tweet_id='1467898511', username='USERID_2', num_liked=3477, length=99),\n",
       " Tweet(tweet_id='1467926632', username='USERID_2', num_liked=2602, length=98),\n",
       " Tweet(tweet_id='1467862213', username='USERID_2', num_liked=2455, length=138),\n",
       " Tweet(tweet_id='1467878633', username='USERID_2', num_liked=2351, length=33),\n",
       " Tweet(tweet_id='1467878971', username='USERID_2', num_liked=2238, length=27),\n",
       " Tweet(tweet_id='1467953090', username='USERID_2', num_liked=1896, length=64),\n",
       " Tweet(tweet_id='1467908798', username='USERID_2', num_liked=1659, length=51),\n",
       " Tweet(tweet_id='1467918015', username='USERID_2', num_liked=1508, length=97),\n",
       " Tweet(tweet_id='1467926444', username='USERID_2', num_liked=1394, length=61),\n",
       " Tweet(tweet_id='1467914499', username='USERID_2', num_liked=910, length=138),\n",
       " Tweet(tweet_id='1467968584', username='USERID_2', num_liked=777, length=132),\n",
       " Tweet(tweet_id='1467933102', username='USERID_2', num_liked=625, length=135),\n",
       " Tweet(tweet_id='1467953277', username='USERID_2', num_liked=494, length=31),\n",
       " Tweet(tweet_id='1467890222', username='USERID_2', num_liked=227, length=107),\n",
       " Tweet(tweet_id='1467871956', username='USERID_2', num_liked=110, length=68)]"
      ]
     },
     "execution_count": 14,
     "metadata": {},
     "output_type": "execute_result"
    }
   ],
   "source": [
    "#q10 What are the tweets made by that outlier user?\n",
    "outlier_tweets = sorted(buckets[outlier_user],key = lambda x:likes(x.num_liked),reverse = True)\n",
    "outlier_tweets"
   ]
  },
  {
   "cell_type": "code",
   "execution_count": 15,
   "metadata": {},
   "outputs": [
    {
     "data": {
      "text/plain": [
       "5003.565217391304"
      ]
     },
     "execution_count": 15,
     "metadata": {},
     "output_type": "execute_result"
    }
   ],
   "source": [
    "#q11 If we exclude that most-liked tweet, what is the average of the remaining number of likes for that user?\n",
    "count = 0\n",
    "count_keeper =0\n",
    "for y in outlier_tweets[1:]:\n",
    "    count += y.num_liked\n",
    "    count_keeper+=1\n",
    "avg = count/count_keeper\n",
    "avg"
   ]
  },
  {
   "cell_type": "code",
   "execution_count": 16,
   "metadata": {},
   "outputs": [
    {
     "data": {
      "image/png": "[encoded data removed]",
      "text/plain": [
       "<Figure size 432x288 with 1 Axes>"
      ]
     },
     "metadata": {
      "needs_background": "light"
     },
     "output_type": "display_data"
    }
   ],
   "source": [
    "#q12 If we exclude that most-liked tweet, what is the relationship between the number of tweets and the largest number of likes?\n",
    "num_liked_sort = sorted(tweet_last,key = lambda x:likes(x.num_liked),reverse = True)\n",
    "y = num_liked_sort[1:]\n",
    "y_val = liking(bucks(y))\n",
    "scatter(prof_user_dict,y_val,\"Number of tweets\",\"Largest Likes\")"
   ]
  },
  {
   "cell_type": "code",
   "execution_count": 17,
   "metadata": {},
   "outputs": [
    {
     "data": {
      "image/png": "[encoded data removed]",
      "text/plain": [
       "<Figure size 432x288 with 1 Axes>"
      ]
     },
     "metadata": {
      "needs_background": "light"
     },
     "output_type": "display_data"
    }
   ],
   "source": [
    "#q13 If we exclude the 2 most-liked tweets, what is the relationship between the number of tweets and the largest number of likes?\n",
    "x =  num_liked_sort[2:]\n",
    "x_val = liking(bucks(x))\n",
    "scatter(prof_user_dict,x_val,\"Number of tweets\",\"Largest Likes\")"
   ]
  },
  {
   "cell_type": "code",
   "execution_count": 18,
   "metadata": {},
   "outputs": [],
   "source": [
    "def recursive(dirct):    \n",
    "    rec_list = []\n",
    "    contents = os.listdir(dirct)\n",
    "    for y in contents:\n",
    "        find_path = os.path.join(dirct, y)\n",
    "        if os.path.isfile(find_path) and not y.startswith(\".\"):\n",
    "            rec_list.append(find_path)\n",
    "        if os.path.isdir(find_path):\n",
    "            rec_list.extend(recursive(find_path))\n",
    "    return sorted(rec_list, reverse=True)"
   ]
  },
  {
   "cell_type": "code",
   "execution_count": 19,
   "metadata": {},
   "outputs": [
    {
     "data": {
      "text/plain": [
       "[]"
      ]
     },
     "execution_count": 19,
     "metadata": {},
     "output_type": "execute_result"
    }
   ],
   "source": [
    "#q14 What are the files in the rb8 directory of the rb directory of the play directory?\n",
    "recursive(os.path.join('play', 'rb','rb8'))"
   ]
  },
  {
   "cell_type": "code",
   "execution_count": 20,
   "metadata": {},
   "outputs": [
    {
     "data": {
      "text/plain": [
       "['play/ou/v',\n",
       " 'play/ou/quap/uikwe',\n",
       " 'play/ou/quap/qonxu.txt',\n",
       " 'play/ou/quap/aoq/qsonj',\n",
       " 'play/ou/quap/aoq/aqnsa',\n",
       " 'play/ou/b',\n",
       " 'play/ou/a']"
      ]
     },
     "execution_count": 20,
     "metadata": {},
     "output_type": "execute_result"
    }
   ],
   "source": [
    "#q15 What are the files in the ou directory of the play directory?\n",
    "recursive(os.path.join('play', 'ou'))"
   ]
  },
  {
   "cell_type": "code",
   "execution_count": 21,
   "metadata": {},
   "outputs": [
    {
     "data": {
      "text/plain": [
       "['play/rb/rb9/89.csv',\n",
       " 'play/rb/rb9/12.xls',\n",
       " 'play/rb/ppt.ppt',\n",
       " 'play/ou/v',\n",
       " 'play/ou/quap/uikwe',\n",
       " 'play/ou/quap/qonxu.txt',\n",
       " 'play/ou/quap/aoq/qsonj',\n",
       " 'play/ou/quap/aoq/aqnsa',\n",
       " 'play/ou/b',\n",
       " 'play/ou/a',\n",
       " 'play/ls/qwe/usun.pdf',\n",
       " 'play/ls/qwe/iuqwe.json',\n",
       " 'play/ls/mf.py',\n",
       " 'play/ls/lu.txt']"
      ]
     },
     "execution_count": 21,
     "metadata": {},
     "output_type": "execute_result"
    }
   ],
   "source": [
    "#q16 What are the files in the play directory?\n",
    "recursive(os.path.join('play'))"
   ]
  },
  {
   "cell_type": "code",
   "execution_count": 22,
   "metadata": {},
   "outputs": [
    {
     "data": {
      "text/plain": [
       "['recursive/others/USERID_9.json',\n",
       " 'recursive/others/USERID_8.json',\n",
       " 'recursive/others/USERID_7.json',\n",
       " 'recursive/others/USERID_6.json',\n",
       " 'recursive/others/USERID_5.json',\n",
       " 'recursive/others/USERID_10.json']"
      ]
     },
     "execution_count": 22,
     "metadata": {},
     "output_type": "execute_result"
    }
   ],
   "source": [
    "#q17 What are the files in the others directory of the recursive directory?\n",
    "recursive(os.path.join('recursive', 'others'))"
   ]
  },
  {
   "cell_type": "code",
   "execution_count": 23,
   "metadata": {},
   "outputs": [
    {
     "data": {
      "text/plain": [
       "['recursive/others/USERID_9.json',\n",
       " 'recursive/others/USERID_8.json',\n",
       " 'recursive/others/USERID_7.json',\n",
       " 'recursive/others/USERID_6.json',\n",
       " 'recursive/others/USERID_5.json',\n",
       " 'recursive/others/USERID_10.json',\n",
       " 'recursive/USERID_4/true/tweets.json',\n",
       " 'recursive/USERID_4/false/tweets.json',\n",
       " 'recursive/USERID_3/tweets.json',\n",
       " 'recursive/USERID_2/tweets.json',\n",
       " 'recursive/USERID_1/tweets.json']"
      ]
     },
     "execution_count": 23,
     "metadata": {},
     "output_type": "execute_result"
    }
   ],
   "source": [
    "#q18 What are the files in the recursive directory?\n",
    "rd = recursive(os.path.join('recursive'))\n",
    "rd"
   ]
  },
  {
   "cell_type": "code",
   "execution_count": 24,
   "metadata": {},
   "outputs": [],
   "source": [
    "def find_tweet(lst):\n",
    "    all_tweet = []\n",
    "    for y in lst :\n",
    "        all_tweet.extend(read_json(y,None))\n",
    "    return all_tweet\n",
    "def cnt(tweets):\n",
    "    count = 0\n",
    "    for twts in tweets:\n",
    "        count+=1\n",
    "    return count"
   ]
  },
  {
   "cell_type": "code",
   "execution_count": 25,
   "metadata": {},
   "outputs": [
    {
     "data": {
      "text/plain": [
       "17"
      ]
     },
     "execution_count": 25,
     "metadata": {},
     "output_type": "execute_result"
    }
   ],
   "source": [
    "#q19 How many tweets are in the files in the USERID_4 directory of the recursive directory?\n",
    "rec_user4 = recursive(os.path.join('recursive', 'USERID_4'))\n",
    "cnt(find_tweet(rec_user4))"
   ]
  },
  {
   "cell_type": "code",
   "execution_count": 26,
   "metadata": {},
   "outputs": [
    {
     "data": {
      "text/plain": [
       "200"
      ]
     },
     "execution_count": 26,
     "metadata": {},
     "output_type": "execute_result"
    }
   ],
   "source": [
    "#q20 How many tweets are in the files in the recursive directory?\n",
    "cnt(find_tweet(rd))"
   ]
  },
  {
   "cell_type": "code",
   "execution_count": null,
   "metadata": {},
   "outputs": [],
   "source": []
  }
 ],
 "metadata": {
  "kernelspec": {
   "display_name": "Python 3",
   "language": "python",
   "name": "python3"
  },
  "language_info": {
   "codemirror_mode": {
    "name": "ipython",
    "version": 3
   },
   "file_extension": ".py",
   "mimetype": "text/x-python",
   "name": "python",
   "nbconvert_exporter": "python",
   "pygments_lexer": "ipython3",
   "version": "3.8.3"
  }
 },
 "nbformat": 4,
 "nbformat_minor": 4
}
