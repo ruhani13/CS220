{
 "cells": [
  {
   "cell_type": "code",
   "execution_count": 1,
   "metadata": {},
   "outputs": [],
   "source": [
    "# project: p8\n",
    "# submitter: rarora23\n",
    "# partner: none"
   ]
  },
  {
   "cell_type": "code",
   "execution_count": 2,
   "metadata": {},
   "outputs": [],
   "source": [
    "import csv\n",
    "import copy"
   ]
  },
  {
   "cell_type": "code",
   "execution_count": 3,
   "metadata": {},
   "outputs": [],
   "source": [
    "def get_mapping(path):\n",
    "    dict_mapping = {}\n",
    "    small_mapping_file = open(path, encoding='utf-8')\n",
    "    file_reader = csv.reader(small_mapping_file)\n",
    "    small_mapping = list(file_reader)\n",
    "    small_mapping_file.close()\n",
    "    for rows in small_mapping:\n",
    "        dict_mapping[rows[0]] = rows[1]\n",
    "    return dict_mapping   "
   ]
  },
  {
   "cell_type": "code",
   "execution_count": 4,
   "metadata": {},
   "outputs": [
    {
     "data": {
      "text/plain": [
       "{'nm0000131': 'John Cusack',\n",
       " 'nm0000154': 'Mel Gibson',\n",
       " 'nm0000163': 'Dustin Hoffman',\n",
       " 'nm0000418': 'Danny Glover',\n",
       " 'nm0000432': 'Gene Hackman',\n",
       " 'nm0000997': 'Gary Busey',\n",
       " 'nm0001149': 'Richard Donner',\n",
       " 'nm0001219': 'Gary Fleder',\n",
       " 'nm0752751': 'Mitchell Ryan',\n",
       " 'tt0313542': 'Runaway Jury',\n",
       " 'tt0093409': 'Lethal Weapon'}"
      ]
     },
     "execution_count": 4,
     "metadata": {},
     "output_type": "execute_result"
    }
   ],
   "source": [
    "#q1 What is returned by your get_mapping(\"small_mapping.csv\") function?\n",
    "mapping = get_mapping(\"small_mapping.csv\")\n",
    "mapping"
   ]
  },
  {
   "cell_type": "code",
   "execution_count": 5,
   "metadata": {},
   "outputs": [
    {
     "data": {
      "text/plain": [
       "'Gary Fleder'"
      ]
     },
     "execution_count": 5,
     "metadata": {},
     "output_type": "execute_result"
    }
   ],
   "source": [
    "#q2 What is the value associated with the key \"nm0001219\"?\n",
    "mapping[\"nm0001219\"]"
   ]
  },
  {
   "cell_type": "code",
   "execution_count": 6,
   "metadata": {},
   "outputs": [
    {
     "data": {
      "text/plain": [
       "['John Cusack',\n",
       " 'Mel Gibson',\n",
       " 'Dustin Hoffman',\n",
       " 'Danny Glover',\n",
       " 'Gene Hackman',\n",
       " 'Gary Busey',\n",
       " 'Richard Donner',\n",
       " 'Gary Fleder',\n",
       " 'Mitchell Ryan']"
      ]
     },
     "execution_count": 6,
     "metadata": {},
     "output_type": "execute_result"
    }
   ],
   "source": [
    "#q3 What are the values in the mapping (dictionary) associated with keys that begin with \"nm\"?\n",
    "nm_name = []\n",
    "for val in mapping:\n",
    "    if val[:2] == \"nm\":\n",
    "        nm_name.append(mapping[val])\n",
    "nm_name "
   ]
  },
  {
   "cell_type": "code",
   "execution_count": 7,
   "metadata": {},
   "outputs": [
    {
     "data": {
      "text/plain": [
       "['nm0000997', 'nm0001219']"
      ]
     },
     "execution_count": 7,
     "metadata": {},
     "output_type": "execute_result"
    }
   ],
   "source": [
    "#q4 For people with \"Gary\" as their first name in the above mapping, which keys do they correspond to?\n",
    "first_name = []\n",
    "for val in mapping:\n",
    "    for names in mapping[val].split(\" \"):\n",
    "        if names == \"Gary\":\n",
    "            first_name.append(val)\n",
    "first_name            "
   ]
  },
  {
   "cell_type": "code",
   "execution_count": 8,
   "metadata": {},
   "outputs": [],
   "source": [
    "def get_raw_movies(path):\n",
    "    list_movies = []\n",
    "    raw_movies_file = open(path, encoding='utf-8')\n",
    "    file_reader = csv.reader(raw_movies_file)\n",
    "    raw_movies = list(file_reader)\n",
    "    raw_movies_file.close()\n",
    "    header = raw_movies[0]\n",
    "    data = raw_movies[1:]\n",
    "    for row in range(len(data)):\n",
    "        new_data = data[row]\n",
    "        dict_movies = {}\n",
    "        for i in range(len(header)):\n",
    "            if 'actors' in (header[i]):\n",
    "                dict_movies[header[i]] = new_data[i].split(',')\n",
    "            elif 'year' in header[i]:\n",
    "                dict_movies[header[i]] = int(new_data[i])\n",
    "            elif 'rating' in [header[i]]:\n",
    "                dict_movies[header[i]] = float(new_data[i])\n",
    "            elif 'directors' in header[i]:\n",
    "                dict_movies[header[i]] = new_data[i].split(',')\n",
    "            elif 'genres' in header[i]:\n",
    "                dict_movies[header[i]] = new_data[i].split(',')\n",
    "            else:\n",
    "                dict_movies[header[i]] = new_data[i]          \n",
    "        list_movies.append(dict_movies)\n",
    "    return list_movies"
   ]
  },
  {
   "cell_type": "code",
   "execution_count": 9,
   "metadata": {},
   "outputs": [
    {
     "data": {
      "text/plain": [
       "[{'title': 'tt0313542',\n",
       "  'year': 2003,\n",
       "  'rating': 7.1,\n",
       "  'directors': ['nm0001219'],\n",
       "  'actors': ['nm0000131', 'nm0000432', 'nm0000163'],\n",
       "  'genres': ['Crime', 'Drama', 'Thriller']},\n",
       " {'title': 'tt0093409',\n",
       "  'year': 1987,\n",
       "  'rating': 7.6,\n",
       "  'directors': ['nm0001149'],\n",
       "  'actors': ['nm0000154', 'nm0000418', 'nm0000997', 'nm0752751'],\n",
       "  'genres': ['Action', 'Crime', 'Thriller']}]"
      ]
     },
     "execution_count": 9,
     "metadata": {},
     "output_type": "execute_result"
    }
   ],
   "source": [
    "#q5 What does get_raw_movies(\"small_movies.csv\") return?\n",
    "small_movies = get_raw_movies(\"small_movies.csv\")\n",
    "small_movies"
   ]
  },
  {
   "cell_type": "code",
   "execution_count": 10,
   "metadata": {},
   "outputs": [
    {
     "data": {
      "text/plain": [
       "4"
      ]
     },
     "execution_count": 10,
     "metadata": {},
     "output_type": "execute_result"
    }
   ],
   "source": [
    "#q6 How many actors does the movie at index 1 have?\n",
    "len(small_movies[1][\"actors\"])"
   ]
  },
  {
   "cell_type": "code",
   "execution_count": 11,
   "metadata": {},
   "outputs": [
    {
     "data": {
      "text/plain": [
       "'nm0000163'"
      ]
     },
     "execution_count": 11,
     "metadata": {},
     "output_type": "execute_result"
    }
   ],
   "source": [
    "#q7 What is the ID of the last actor listed for the movie at index 0?\n",
    "small_movies[0]['actors'][-1]"
   ]
  },
  {
   "cell_type": "code",
   "execution_count": 12,
   "metadata": {},
   "outputs": [],
   "source": [
    "def get_movies(movies_path, mapping_path):\n",
    "    movie_data = get_raw_movies(movies_path)\n",
    "    mapping_data = get_mapping(mapping_path)\n",
    "    for vals in range(len(movie_data)):\n",
    "        if movie_data[vals]['title'] in mapping_data:\n",
    "            name_title = (movie_data[vals]['title'])\n",
    "            movie_data[vals]['title'] = mapping_data[name_title] \n",
    "        for vals2 in range(len(movie_data[vals]['directors'])):\n",
    "            if movie_data[vals]['directors'][vals2] in mapping_data:    \n",
    "                    directors = (movie_data[vals]['directors'][vals2])\n",
    "                    movie_data[vals]['directors'][vals2] = mapping_data[directors]\n",
    "        for vals3 in range(len(movie_data[vals]['actors'])):\n",
    "            if movie_data[vals]['actors'][vals3] in mapping_data:    \n",
    "                    actors = (movie_data[vals]['actors'][vals3])\n",
    "                    movie_data[vals]['actors'][vals3] = mapping_data[actors]\n",
    "    return movie_data\n",
    "small = get_movies(\"small_movies.csv\", \"small_mapping.csv\")"
   ]
  },
  {
   "cell_type": "code",
   "execution_count": 13,
   "metadata": {},
   "outputs": [
    {
     "data": {
      "text/plain": [
       "[{'title': 'Runaway Jury',\n",
       "  'year': 2003,\n",
       "  'rating': 7.1,\n",
       "  'directors': ['Gary Fleder'],\n",
       "  'actors': ['John Cusack', 'Gene Hackman', 'Dustin Hoffman'],\n",
       "  'genres': ['Crime', 'Drama', 'Thriller']},\n",
       " {'title': 'Lethal Weapon',\n",
       "  'year': 1987,\n",
       "  'rating': 7.6,\n",
       "  'directors': ['Richard Donner'],\n",
       "  'actors': ['Mel Gibson', 'Danny Glover', 'Gary Busey', 'Mitchell Ryan'],\n",
       "  'genres': ['Action', 'Crime', 'Thriller']}]"
      ]
     },
     "execution_count": 13,
     "metadata": {},
     "output_type": "execute_result"
    }
   ],
   "source": [
    "#q8 What is small?\n",
    "small"
   ]
  },
  {
   "cell_type": "code",
   "execution_count": 14,
   "metadata": {},
   "outputs": [
    {
     "data": {
      "text/plain": [
       "'Lethal Weapon'"
      ]
     },
     "execution_count": 14,
     "metadata": {},
     "output_type": "execute_result"
    }
   ],
   "source": [
    "#q9 What is small[1][\"title\"]?\n",
    "small[1][\"title\"]"
   ]
  },
  {
   "cell_type": "code",
   "execution_count": 15,
   "metadata": {},
   "outputs": [
    {
     "data": {
      "text/plain": [
       "['Mel Gibson', 'Danny Glover', 'Gary Busey', 'Mitchell Ryan']"
      ]
     },
     "execution_count": 15,
     "metadata": {},
     "output_type": "execute_result"
    }
   ],
   "source": [
    "#q10 What is small[1][\"actors\"]?\n",
    "small[1][\"actors\"]"
   ]
  },
  {
   "cell_type": "code",
   "execution_count": 16,
   "metadata": {},
   "outputs": [
    {
     "data": {
      "text/plain": [
       "['Richard Donner']"
      ]
     },
     "execution_count": 16,
     "metadata": {},
     "output_type": "execute_result"
    }
   ],
   "source": [
    "#q11 What is small[-1][\"directors\"]?\n",
    "small[-1][\"directors\"]"
   ]
  },
  {
   "cell_type": "code",
   "execution_count": 17,
   "metadata": {},
   "outputs": [
    {
     "name": "stdout",
     "output_type": "stream",
     "text": [
      "1868\n"
     ]
    }
   ],
   "source": [
    "movies = get_movies(\"movies.csv\", \"mapping.csv\")\n",
    "print(len(movies))"
   ]
  },
  {
   "cell_type": "code",
   "execution_count": 18,
   "metadata": {},
   "outputs": [
    {
     "data": {
      "text/plain": [
       "[{'title': 'Tycoon',\n",
       "  'year': 1947,\n",
       "  'rating': 6.3,\n",
       "  'directors': ['Richard Wallace'],\n",
       "  'actors': ['John Wayne', 'Cedric Hardwicke'],\n",
       "  'genres': ['Adventure', 'Drama', 'Romance']},\n",
       " {'title': '7th Cavalry',\n",
       "  'year': 1956,\n",
       "  'rating': 5.9,\n",
       "  'directors': ['Joseph H. Lewis'],\n",
       "  'actors': ['Randolph Scott', 'Jay C. Flippen', 'Frank Faylen'],\n",
       "  'genres': ['Western']},\n",
       " {'title': '7 Men from Now',\n",
       "  'year': 1956,\n",
       "  'rating': 7.5,\n",
       "  'directors': ['Budd Boetticher'],\n",
       "  'actors': ['Randolph Scott', 'Lee Marvin', 'Walter Reed'],\n",
       "  'genres': ['Action', 'Western']}]"
      ]
     },
     "execution_count": 18,
     "metadata": {},
     "output_type": "execute_result"
    }
   ],
   "source": [
    "#q12 What are the 88th to 90th (inclusive) rows in movies?\n",
    "exec_rows = [] \n",
    "for i in range(len(movies)):\n",
    "    if i in range(87,90) :\n",
    "        exec_rows.append(movies[i])\n",
    "exec_rows   "
   ]
  },
  {
   "cell_type": "code",
   "execution_count": 19,
   "metadata": {},
   "outputs": [
    {
     "data": {
      "text/plain": [
       "[{'title': 'The Steam Experiment',\n",
       "  'year': 2009,\n",
       "  'rating': 4.0,\n",
       "  'directors': ['Philippe Martinez'],\n",
       "  'actors': ['Val Kilmer', 'Armand Assante', 'Eric Roberts'],\n",
       "  'genres': ['Mystery', 'Thriller']},\n",
       " {'title': 'The Disappearance of Flight 412',\n",
       "  'year': 1974,\n",
       "  'rating': 4.8,\n",
       "  'directors': ['Jud Taylor'],\n",
       "  'actors': ['Glenn Ford',\n",
       "   'Bradford Dillman',\n",
       "   'David Soul',\n",
       "   'Robert F. Lyons'],\n",
       "  'genres': ['Drama', 'Mystery', 'Sci-Fi']},\n",
       " {'title': 'Fortitude and Glory: Angelo Dundee and His Fighters',\n",
       "  'year': 2012,\n",
       "  'rating': 7.2,\n",
       "  'directors': ['Chris Tasara'],\n",
       "  'actors': ['Angelo Dundee', 'George Foreman', 'Freddie Roach'],\n",
       "  'genres': ['Sport']},\n",
       " {'title': 'Ivanhoe',\n",
       "  'year': 1952,\n",
       "  'rating': 6.8,\n",
       "  'directors': ['Richard Thorpe'],\n",
       "  'actors': ['Robert Taylor', 'George Sanders'],\n",
       "  'genres': ['Adventure', 'Drama', 'History']},\n",
       " {'title': 'The Great Gatsby',\n",
       "  'year': 1949,\n",
       "  'rating': 6.6,\n",
       "  'directors': ['Elliott Nugent'],\n",
       "  'actors': ['Alan Ladd', 'Macdonald Carey'],\n",
       "  'genres': ['Drama']}]"
      ]
     },
     "execution_count": 19,
     "metadata": {},
     "output_type": "execute_result"
    }
   ],
   "source": [
    "#q13 What are the last 5 rows in movies?\n",
    "movies[-5:]"
   ]
  },
  {
   "cell_type": "code",
   "execution_count": 20,
   "metadata": {},
   "outputs": [],
   "source": [
    "# you are not allowed to change this function\n",
    "def filter_movies_by_year(movies, year):\n",
    "    i = 0\n",
    "    while i < len(movies):\n",
    "        if movies[i][\"year\"] != year:\n",
    "            movies.pop(i)\n",
    "        else:\n",
    "            i += 1\n",
    "    return movies"
   ]
  },
  {
   "cell_type": "code",
   "execution_count": 21,
   "metadata": {},
   "outputs": [
    {
     "data": {
      "text/plain": [
       "22"
      ]
     },
     "execution_count": 21,
     "metadata": {},
     "output_type": "execute_result"
    }
   ],
   "source": [
    "#q14 What are the total number of movies from 1949?\n",
    "create_copy = copy.deepcopy(movies)\n",
    "len(filter_movies_by_year(create_copy, 1949))"
   ]
  },
  {
   "cell_type": "code",
   "execution_count": 22,
   "metadata": {},
   "outputs": [
    {
     "data": {
      "text/plain": [
       "[{'title': \"Santa Claus Is Comin' to Town\",\n",
       "  'year': 1970,\n",
       "  'rating': 7.8,\n",
       "  'directors': ['Jules Bass', 'Arthur Rankin Jr.'],\n",
       "  'actors': ['Fred Astaire', 'Mickey Rooney', 'Keenan Wynn', 'Paul Frees'],\n",
       "  'genres': ['Adventure', 'Animation', 'Comedy']},\n",
       " {'title': 'The Brotherhood of the Bell',\n",
       "  'year': 1970,\n",
       "  'rating': 7.3,\n",
       "  'directors': ['Paul Wendkos'],\n",
       "  'actors': ['Glenn Ford', 'Dean Jagger', 'Maurice Evans'],\n",
       "  'genres': ['Drama', 'Thriller']}]"
      ]
     },
     "execution_count": 22,
     "metadata": {},
     "output_type": "execute_result"
    }
   ],
   "source": [
    "#q15 What are the movies from 1970 with ratings greater than 7.0?\n",
    "create_copy2 = copy.deepcopy(movies)\n",
    "ratings = []\n",
    "for rates in filter_movies_by_year(create_copy2, 1970):\n",
    "    if rates['rating'] > 7.0:\n",
    "        ratings.append(rates)\n",
    "ratings"
   ]
  },
  {
   "cell_type": "code",
   "execution_count": 23,
   "metadata": {},
   "outputs": [],
   "source": [
    "def distinct(idx):\n",
    "    unique_val = []\n",
    "    for dict in movies:\n",
    "        unique_val.extend(dict[idx])\n",
    "    return len(set(unique_val))"
   ]
  },
  {
   "cell_type": "code",
   "execution_count": 24,
   "metadata": {},
   "outputs": [
    {
     "data": {
      "text/plain": [
       "18"
      ]
     },
     "execution_count": 24,
     "metadata": {},
     "output_type": "execute_result"
    }
   ],
   "source": [
    "#q16 How many unique genres are there in the dataset?\n",
    "distinct(\"genres\")"
   ]
  },
  {
   "cell_type": "code",
   "execution_count": 25,
   "metadata": {},
   "outputs": [
    {
     "data": {
      "text/plain": [
       "2605"
      ]
     },
     "execution_count": 25,
     "metadata": {},
     "output_type": "execute_result"
    }
   ],
   "source": [
    "#q17 How many unique actor names are there in the dataset?\n",
    "distinct(\"actors\")"
   ]
  },
  {
   "cell_type": "code",
   "execution_count": 26,
   "metadata": {},
   "outputs": [
    {
     "data": {
      "text/plain": [
       "1247"
      ]
     },
     "execution_count": 26,
     "metadata": {},
     "output_type": "execute_result"
    }
   ],
   "source": [
    "#q18 How many unique director names are there in the dataset?\n",
    "distinct(\"directors\")"
   ]
  },
  {
   "cell_type": "code",
   "execution_count": 27,
   "metadata": {},
   "outputs": [
    {
     "data": {
      "text/plain": [
       "6.401659528907912"
      ]
     },
     "execution_count": 27,
     "metadata": {},
     "output_type": "execute_result"
    }
   ],
   "source": [
    "#q19 What is the average rating for all movies?\n",
    "count = 0\n",
    "for nums in movies:\n",
    "    count += nums['rating']\n",
    "avg = count/len(movies)\n",
    "avg"
   ]
  },
  {
   "cell_type": "code",
   "execution_count": 28,
   "metadata": {},
   "outputs": [
    {
     "data": {
      "text/plain": [
       "'Dr. Strangelove or: How I Learned to Stop Worrying and Love the Bomb'"
      ]
     },
     "execution_count": 28,
     "metadata": {},
     "output_type": "execute_result"
    }
   ],
   "source": [
    "#q20 What is the longest movie title in the dataset ?\n",
    "title_name = \"\"\n",
    "long_title = 0\n",
    "for titles in movies:\n",
    "    if len(titles[\"title\"]) > long_title:\n",
    "        long_title = len(titles[\"title\"])\n",
    "        title_name = titles[\"title\"] \n",
    "        \n",
    "title_name\n"
   ]
  },
  {
   "cell_type": "code",
   "execution_count": null,
   "metadata": {},
   "outputs": [],
   "source": []
  }
 ],
 "metadata": {
  "kernelspec": {
   "display_name": "Python 3",
   "language": "python",
   "name": "python3"
  },
  "language_info": {
   "codemirror_mode": {
    "name": "ipython",
    "version": 3
   },
   "file_extension": ".py",
   "mimetype": "text/x-python",
   "name": "python",
   "nbconvert_exporter": "python",
   "pygments_lexer": "ipython3",
   "version": "3.8.3"
  }
 },
 "nbformat": 4,
 "nbformat_minor": 4
}
