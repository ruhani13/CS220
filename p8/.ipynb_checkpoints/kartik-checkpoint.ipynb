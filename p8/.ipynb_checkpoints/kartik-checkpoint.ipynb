{
 "cells": [
  {
   "cell_type": "code",
   "execution_count": 1,
   "metadata": {},
   "outputs": [],
   "source": [
    "# project: p8\n",
    "# submitter: munjal3\n",
    "# partner: singh236"
   ]
  },
  {
   "cell_type": "code",
   "execution_count": 2,
   "metadata": {},
   "outputs": [],
   "source": [
    "import csv\n",
    "\n",
    "def get_mapping(path):\n",
    "    dict_map = {}\n",
    "    file = open(path,encoding='utf-8')\n",
    "    file_reader = csv.reader(file)\n",
    "    data = list(file_reader)\n",
    "    file.close()\n",
    "    for row in data:\n",
    "        dict_map[row[0]] = row[1]\n",
    "    return dict_map"
   ]
  },
  {
   "cell_type": "code",
   "execution_count": 3,
   "metadata": {},
   "outputs": [
    {
     "data": {
      "text/plain": [
       "{'nm0000131': 'John Cusack',\n",
       " 'nm0000154': 'Mel Gibson',\n",
       " 'nm0000163': 'Dustin Hoffman',\n",
       " 'nm0000418': 'Danny Glover',\n",
       " 'nm0000432': 'Gene Hackman',\n",
       " 'nm0000997': 'Gary Busey',\n",
       " 'nm0001149': 'Richard Donner',\n",
       " 'nm0001219': 'Gary Fleder',\n",
       " 'nm0752751': 'Mitchell Ryan',\n",
       " 'tt0313542': 'Runaway Jury',\n",
       " 'tt0093409': 'Lethal Weapon'}"
      ]
     },
     "execution_count": 3,
     "metadata": {},
     "output_type": "execute_result"
    }
   ],
   "source": [
    "#q1\n",
    "mapping = get_mapping('small_mapping.csv')\n",
    "mapping"
   ]
  },
  {
   "cell_type": "code",
   "execution_count": 4,
   "metadata": {},
   "outputs": [
    {
     "data": {
      "text/plain": [
       "'Gary Fleder'"
      ]
     },
     "execution_count": 4,
     "metadata": {},
     "output_type": "execute_result"
    }
   ],
   "source": [
    "#q2\n",
    "mapping[\"nm0001219\"]"
   ]
  },
  {
   "cell_type": "code",
   "execution_count": 5,
   "metadata": {},
   "outputs": [
    {
     "data": {
      "text/plain": [
       "['John Cusack',\n",
       " 'Mel Gibson',\n",
       " 'Dustin Hoffman',\n",
       " 'Danny Glover',\n",
       " 'Gene Hackman',\n",
       " 'Gary Busey',\n",
       " 'Richard Donner',\n",
       " 'Gary Fleder',\n",
       " 'Mitchell Ryan']"
      ]
     },
     "execution_count": 5,
     "metadata": {},
     "output_type": "execute_result"
    }
   ],
   "source": [
    "#q3\n",
    "nm_values = []\n",
    "for key in mapping:\n",
    "    if key[:2] == \"nm\":\n",
    "        nm_values.append(mapping[key])\n",
    "nm_values"
   ]
  },
  {
   "cell_type": "code",
   "execution_count": 6,
   "metadata": {},
   "outputs": [
    {
     "data": {
      "text/plain": [
       "['nm0000997', 'nm0001219']"
      ]
     },
     "execution_count": 6,
     "metadata": {},
     "output_type": "execute_result"
    }
   ],
   "source": [
    "#q4\n",
    "gary_list = []\n",
    "for key in mapping:\n",
    "    for i in str(mapping[key]).split(\" \"):\n",
    "        if i == \"Gary\":\n",
    "            gary_list.append(key)\n",
    "gary_list"
   ]
  },
  {
   "cell_type": "code",
   "execution_count": 9,
   "metadata": {},
   "outputs": [
    {
     "name": "stdout",
     "output_type": "stream",
     "text": [
      "['title', 'year', 'rating', 'directors', 'actors', 'genres']\n",
      "[{'title': 'tt0313542', 'year': '2003', 'rating': '7.1', 'directors': 'nm0001219', 'actors': 'nm0000131,nm0000432,nm0000163', 'genres': 'Crime,Drama,Thriller'}]\n",
      "[{'title': 'tt0313542', 'year': '2003', 'rating': '7.1', 'directors': 'nm0001219', 'actors': 'nm0000131,nm0000432,nm0000163', 'genres': 'Crime,Drama,Thriller'}, {'title': 'tt0093409', 'year': '1987', 'rating': '7.6', 'directors': 'nm0001149', 'actors': 'nm0000154,nm0000418,nm0000997,nm0752751', 'genres': 'Action,Crime,Thriller'}]\n"
     ]
    },
    {
     "data": {
      "text/plain": [
       "[{'title': 'tt0313542',\n",
       "  'year': 2003,\n",
       "  'rating': 7.1,\n",
       "  'directors': ['nm0001219'],\n",
       "  'actors': ['nm0000131', 'nm0000432', 'nm0000163'],\n",
       "  'genres': ['Crime', 'Drama', 'Thriller']},\n",
       " {'title': 'tt0093409',\n",
       "  'year': 1987,\n",
       "  'rating': 7.6,\n",
       "  'directors': ['nm0001149'],\n",
       "  'actors': ['nm0000154', 'nm0000418', 'nm0000997', 'nm0752751'],\n",
       "  'genres': ['Action', 'Crime', 'Thriller']}]"
      ]
     },
     "execution_count": 9,
     "metadata": {},
     "output_type": "execute_result"
    }
   ],
   "source": [
    "# Making function get_raw_movies\n",
    "\n",
    "def get_raw_movies(path):\n",
    "    movie_list = []\n",
    "    file = open(path,encoding='utf-8')\n",
    "    file_reader = csv.reader(file)\n",
    "    data = list(file_reader)\n",
    "    file.close()\n",
    "    header = data[0]\n",
    "    print(header)\n",
    "    data = data[1:]\n",
    "    print(data)\n",
    "    for row in data:\n",
    "        movie_dict = {}\n",
    "        for i in range(0,len(header)):\n",
    "            movie_dict[header[i]] = row[i]\n",
    "        movie_list.append(movie_dict)\n",
    "        print(movie_list)\n",
    "    for i in movie_list:\n",
    "        i['directors'] = list(i['directors'].split(\",\"))\n",
    "        i['actors'] = list(i['actors'].split(\",\"))\n",
    "        i['genres'] = list(i['genres'].split(\",\"))\n",
    "        i['year'] = int(i['year'])\n",
    "        i['rating'] = float(i['rating'])\n",
    "    return movie_list\n",
    "get_raw_movies(\"small_movies.csv\")"
   ]
  },
  {
   "cell_type": "code",
   "execution_count": 8,
   "metadata": {},
   "outputs": [
    {
     "data": {
      "text/plain": [
       "[{'title': 'tt0313542',\n",
       "  'year': 2003,\n",
       "  'rating': 7.1,\n",
       "  'directors': ['nm0001219'],\n",
       "  'actors': ['nm0000131', 'nm0000432', 'nm0000163'],\n",
       "  'genres': ['Crime', 'Drama', 'Thriller']},\n",
       " {'title': 'tt0093409',\n",
       "  'year': 1987,\n",
       "  'rating': 7.6,\n",
       "  'directors': ['nm0001149'],\n",
       "  'actors': ['nm0000154', 'nm0000418', 'nm0000997', 'nm0752751'],\n",
       "  'genres': ['Action', 'Crime', 'Thriller']}]"
      ]
     },
     "execution_count": 8,
     "metadata": {},
     "output_type": "execute_result"
    }
   ],
   "source": [
    "#q5\n",
    "small_movie_data = get_raw_movies(\"small_movies.csv\")\n",
    "small_movie_data"
   ]
  },
  {
   "cell_type": "code",
   "execution_count": 9,
   "metadata": {},
   "outputs": [],
   "source": [
    "movie_data = get_raw_movies(\"movies.csv\")"
   ]
  },
  {
   "cell_type": "code",
   "execution_count": 10,
   "metadata": {},
   "outputs": [
    {
     "data": {
      "text/plain": [
       "4"
      ]
     },
     "execution_count": 10,
     "metadata": {},
     "output_type": "execute_result"
    }
   ],
   "source": [
    "#q6\n",
    "len(small_movie_data[1]['actors'])"
   ]
  },
  {
   "cell_type": "code",
   "execution_count": 11,
   "metadata": {},
   "outputs": [
    {
     "data": {
      "text/plain": [
       "'nm0000163'"
      ]
     },
     "execution_count": 11,
     "metadata": {},
     "output_type": "execute_result"
    }
   ],
   "source": [
    "#q7\n",
    "small_movie_data[0]['actors'][-1]"
   ]
  },
  {
   "cell_type": "code",
   "execution_count": 12,
   "metadata": {},
   "outputs": [],
   "source": [
    "# Defining get_movies\n",
    "def get_movies(movies_path, mapping_path):\n",
    "    movie_data = get_raw_movies(movies_path)\n",
    "    map_data = get_mapping(mapping_path)\n",
    "    for i in movie_data:\n",
    "        for j in range(0,len(i.get('actors'))):\n",
    "            i.get('actors')[j] = map_data.get(i.get('actors')[j])\n",
    "        for j in range(0,len(i.get('directors'))):\n",
    "            i.get('directors')[j] = map_data.get(i.get('directors')[j])\n",
    "        i['title'] = map_data.get(i['title'])\n",
    "    return movie_data"
   ]
  },
  {
   "cell_type": "code",
   "execution_count": 13,
   "metadata": {},
   "outputs": [
    {
     "data": {
      "text/plain": [
       "[{'title': 'Runaway Jury',\n",
       "  'year': 2003,\n",
       "  'rating': 7.1,\n",
       "  'directors': ['Gary Fleder'],\n",
       "  'actors': ['John Cusack', 'Gene Hackman', 'Dustin Hoffman'],\n",
       "  'genres': ['Crime', 'Drama', 'Thriller']},\n",
       " {'title': 'Lethal Weapon',\n",
       "  'year': 1987,\n",
       "  'rating': 7.6,\n",
       "  'directors': ['Richard Donner'],\n",
       "  'actors': ['Mel Gibson', 'Danny Glover', 'Gary Busey', 'Mitchell Ryan'],\n",
       "  'genres': ['Action', 'Crime', 'Thriller']}]"
      ]
     },
     "execution_count": 13,
     "metadata": {},
     "output_type": "execute_result"
    }
   ],
   "source": [
    "#q8\n",
    "small = get_movies(\"small_movies.csv\",\"small_mapping.csv\")\n",
    "small"
   ]
  },
  {
   "cell_type": "code",
   "execution_count": 14,
   "metadata": {},
   "outputs": [
    {
     "data": {
      "text/plain": [
       "'Lethal Weapon'"
      ]
     },
     "execution_count": 14,
     "metadata": {},
     "output_type": "execute_result"
    }
   ],
   "source": [
    "#q9\n",
    "small[1][\"title\"]"
   ]
  },
  {
   "cell_type": "code",
   "execution_count": 15,
   "metadata": {},
   "outputs": [
    {
     "data": {
      "text/plain": [
       "['Mel Gibson', 'Danny Glover', 'Gary Busey', 'Mitchell Ryan']"
      ]
     },
     "execution_count": 15,
     "metadata": {},
     "output_type": "execute_result"
    }
   ],
   "source": [
    "#q10\n",
    "small[1][\"actors\"]"
   ]
  },
  {
   "cell_type": "code",
   "execution_count": 16,
   "metadata": {},
   "outputs": [
    {
     "data": {
      "text/plain": [
       "['Richard Donner']"
      ]
     },
     "execution_count": 16,
     "metadata": {},
     "output_type": "execute_result"
    }
   ],
   "source": [
    "#q11\n",
    "small[-1][\"directors\"]"
   ]
  },
  {
   "cell_type": "code",
   "execution_count": 17,
   "metadata": {},
   "outputs": [],
   "source": [
    "movies = get_movies(\"movies.csv\", \"mapping.csv\")"
   ]
  },
  {
   "cell_type": "code",
   "execution_count": 18,
   "metadata": {},
   "outputs": [
    {
     "data": {
      "text/plain": [
       "[{'title': 'Tycoon',\n",
       "  'year': 1947,\n",
       "  'rating': 6.3,\n",
       "  'directors': ['Richard Wallace'],\n",
       "  'actors': ['John Wayne', 'Cedric Hardwicke'],\n",
       "  'genres': ['Adventure', 'Drama', 'Romance']},\n",
       " {'title': '7th Cavalry',\n",
       "  'year': 1956,\n",
       "  'rating': 5.9,\n",
       "  'directors': ['Joseph H. Lewis'],\n",
       "  'actors': ['Randolph Scott', 'Jay C. Flippen', 'Frank Faylen'],\n",
       "  'genres': ['Western']},\n",
       " {'title': '7 Men from Now',\n",
       "  'year': 1956,\n",
       "  'rating': 7.5,\n",
       "  'directors': ['Budd Boetticher'],\n",
       "  'actors': ['Randolph Scott', 'Lee Marvin', 'Walter Reed'],\n",
       "  'genres': ['Action', 'Western']}]"
      ]
     },
     "execution_count": 18,
     "metadata": {},
     "output_type": "execute_result"
    }
   ],
   "source": [
    "#q12\n",
    "movie_list = []\n",
    "for i in range(87,90):\n",
    "    movie_list.append(movies[i])\n",
    "movie_list"
   ]
  },
  {
   "cell_type": "code",
   "execution_count": 19,
   "metadata": {},
   "outputs": [
    {
     "data": {
      "text/plain": [
       "[{'title': 'The Steam Experiment',\n",
       "  'year': 2009,\n",
       "  'rating': 4.0,\n",
       "  'directors': ['Philippe Martinez'],\n",
       "  'actors': ['Val Kilmer', 'Armand Assante', 'Eric Roberts'],\n",
       "  'genres': ['Mystery', 'Thriller']},\n",
       " {'title': 'The Disappearance of Flight 412',\n",
       "  'year': 1974,\n",
       "  'rating': 4.8,\n",
       "  'directors': ['Jud Taylor'],\n",
       "  'actors': ['Glenn Ford',\n",
       "   'Bradford Dillman',\n",
       "   'David Soul',\n",
       "   'Robert F. Lyons'],\n",
       "  'genres': ['Drama', 'Mystery', 'Sci-Fi']},\n",
       " {'title': 'Fortitude and Glory: Angelo Dundee and His Fighters',\n",
       "  'year': 2012,\n",
       "  'rating': 7.2,\n",
       "  'directors': ['Chris Tasara'],\n",
       "  'actors': ['Angelo Dundee', 'George Foreman', 'Freddie Roach'],\n",
       "  'genres': ['Sport']},\n",
       " {'title': 'Ivanhoe',\n",
       "  'year': 1952,\n",
       "  'rating': 6.8,\n",
       "  'directors': ['Richard Thorpe'],\n",
       "  'actors': ['Robert Taylor', 'George Sanders'],\n",
       "  'genres': ['Adventure', 'Drama', 'History']},\n",
       " {'title': 'The Great Gatsby',\n",
       "  'year': 1949,\n",
       "  'rating': 6.6,\n",
       "  'directors': ['Elliott Nugent'],\n",
       "  'actors': ['Alan Ladd', 'Macdonald Carey'],\n",
       "  'genres': ['Drama']}]"
      ]
     },
     "execution_count": 19,
     "metadata": {},
     "output_type": "execute_result"
    }
   ],
   "source": [
    "#q13\n",
    "last_5_list = movies[-5:]\n",
    "last_5_list"
   ]
  },
  {
   "cell_type": "code",
   "execution_count": 20,
   "metadata": {},
   "outputs": [],
   "source": [
    "# you are not allowed to change this function\n",
    "def filter_movies_by_year(movies, year):\n",
    "    i = 0\n",
    "    while i < len(movies):\n",
    "        if movies[i]['year'] != year:\n",
    "            movies.pop(i)\n",
    "        else:\n",
    "            i += 1\n",
    "    return movies"
   ]
  },
  {
   "cell_type": "code",
   "execution_count": 21,
   "metadata": {},
   "outputs": [
    {
     "data": {
      "text/plain": [
       "22"
      ]
     },
     "execution_count": 21,
     "metadata": {},
     "output_type": "execute_result"
    }
   ],
   "source": [
    "#q14\n",
    "import copy\n",
    "\n",
    "movies_copy = copy.deepcopy(movies)\n",
    "len(filter_movies_by_year(movies_copy, 1949))"
   ]
  },
  {
   "cell_type": "code",
   "execution_count": 22,
   "metadata": {},
   "outputs": [
    {
     "data": {
      "text/plain": [
       "[{'title': \"Santa Claus Is Comin' to Town\",\n",
       "  'year': 1970,\n",
       "  'rating': 7.8,\n",
       "  'directors': ['Jules Bass', 'Arthur Rankin Jr.'],\n",
       "  'actors': ['Fred Astaire', 'Mickey Rooney', 'Keenan Wynn', 'Paul Frees'],\n",
       "  'genres': ['Adventure', 'Animation', 'Comedy']},\n",
       " {'title': 'The Brotherhood of the Bell',\n",
       "  'year': 1970,\n",
       "  'rating': 7.3,\n",
       "  'directors': ['Paul Wendkos'],\n",
       "  'actors': ['Glenn Ford', 'Dean Jagger', 'Maurice Evans'],\n",
       "  'genres': ['Drama', 'Thriller']}]"
      ]
     },
     "execution_count": 22,
     "metadata": {},
     "output_type": "execute_result"
    }
   ],
   "source": [
    "#q15\n",
    "movies_copy2 = copy.deepcopy(movies)\n",
    "result_list = []\n",
    "for i in filter_movies_by_year(movies_copy2, 1970):\n",
    "    if i['rating'] > 7.0:\n",
    "        result_list.append(i)\n",
    "result_list"
   ]
  },
  {
   "cell_type": "code",
   "execution_count": 23,
   "metadata": {},
   "outputs": [
    {
     "data": {
      "text/plain": [
       "18"
      ]
     },
     "execution_count": 23,
     "metadata": {},
     "output_type": "execute_result"
    }
   ],
   "source": [
    "#q16\n",
    "genres_dict = {}\n",
    "actors_dict = {}\n",
    "directors_dict = {}\n",
    "for i in movies:\n",
    "    for j in i['genres']:\n",
    "        if not j in genres_dict:\n",
    "            genres_dict[j] = 1\n",
    "        else:\n",
    "            genres_dict[j] += 1\n",
    "    for j in i['actors']:\n",
    "        if not j in actors_dict:\n",
    "            actors_dict[j] = 1\n",
    "        else:\n",
    "            actors_dict[j] += 1\n",
    "    for j in i['directors']:\n",
    "        if not j in directors_dict:\n",
    "            directors_dict[j] = 1\n",
    "        else:\n",
    "            directors_dict[j] += 1\n",
    "\n",
    "len(genres_dict)"
   ]
  },
  {
   "cell_type": "code",
   "execution_count": 24,
   "metadata": {},
   "outputs": [
    {
     "data": {
      "text/plain": [
       "2605"
      ]
     },
     "execution_count": 24,
     "metadata": {},
     "output_type": "execute_result"
    }
   ],
   "source": [
    "#q17\n",
    "len(actors_dict)"
   ]
  },
  {
   "cell_type": "code",
   "execution_count": 25,
   "metadata": {},
   "outputs": [
    {
     "data": {
      "text/plain": [
       "1247"
      ]
     },
     "execution_count": 25,
     "metadata": {},
     "output_type": "execute_result"
    }
   ],
   "source": [
    "#q18\n",
    "len(directors_dict)"
   ]
  },
  {
   "cell_type": "code",
   "execution_count": 26,
   "metadata": {},
   "outputs": [
    {
     "data": {
      "text/plain": [
       "6.401659528907912"
      ]
     },
     "execution_count": 26,
     "metadata": {},
     "output_type": "execute_result"
    }
   ],
   "source": [
    "#q19\n",
    "sum_ratings = 0\n",
    "for i in movies:\n",
    "    sum_ratings += i['rating']\n",
    "avg_rating = sum_ratings/len(movies)\n",
    "avg_rating"
   ]
  },
  {
   "cell_type": "code",
   "execution_count": 27,
   "metadata": {},
   "outputs": [
    {
     "data": {
      "text/plain": [
       "'Dr. Strangelove or: How I Learned to Stop Worrying and Love the Bomb'"
      ]
     },
     "execution_count": 27,
     "metadata": {},
     "output_type": "execute_result"
    }
   ],
   "source": [
    "#q20\n",
    "result_list = []\n",
    "for i in movies:\n",
    "    result_list.append(i['title'])\n",
    "max(result_list, key =len)"
   ]
  }
 ],
 "metadata": {
  "kernelspec": {
   "display_name": "Python 3",
   "language": "python",
   "name": "python3"
  },
  "language_info": {
   "codemirror_mode": {
    "name": "ipython",
    "version": 3
   },
   "file_extension": ".py",
   "mimetype": "text/x-python",
   "name": "python",
   "nbconvert_exporter": "python",
   "pygments_lexer": "ipython3",
   "version": "3.8.3"
  }
 },
 "nbformat": 4,
 "nbformat_minor": 4
}
