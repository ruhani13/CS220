{
 "cells": [
  {
   "cell_type": "code",
   "execution_count": 1,
   "metadata": {},
   "outputs": [],
   "source": [
    "# project: p9\n",
    "# submitter: rarora23\n",
    "# partner: munjal3 "
   ]
  },
  {
   "cell_type": "code",
   "execution_count": 2,
   "metadata": {},
   "outputs": [],
   "source": [
    "import csv\n",
    "import copy \n",
    "import matplotlib\n",
    "import pandas\n",
    "\n",
    "%matplotlib inline \n",
    "\n",
    "def plot_dict(d, label=\"Please Label Me!!!\"):\n",
    "    ax = pandas.Series(d).sort_index().plot.bar(color=\"black\", fontsize=16)\n",
    "    ax.set_ylabel(label, fontsize=16)"
   ]
  },
  {
   "cell_type": "code",
   "execution_count": 3,
   "metadata": {},
   "outputs": [],
   "source": [
    "def get_mapping(path):\n",
    "    dict_mapping = {}\n",
    "    small_mapping_file = open(path, encoding='utf-8')\n",
    "    file_reader = csv.reader(small_mapping_file)\n",
    "    small_mapping = list(file_reader)\n",
    "    small_mapping_file.close()\n",
    "    for rows in small_mapping:\n",
    "        dict_mapping[rows[0]] = rows[1]\n",
    "    return dict_mapping   "
   ]
  },
  {
   "cell_type": "code",
   "execution_count": 4,
   "metadata": {},
   "outputs": [],
   "source": [
    "def get_raw_movies(path):\n",
    "    list_movies = []\n",
    "    raw_movies_file = open(path, encoding='utf-8')\n",
    "    file_reader = csv.reader(raw_movies_file)\n",
    "    raw_movies = list(file_reader)\n",
    "    raw_movies_file.close()\n",
    "    header = raw_movies[0]\n",
    "    data = raw_movies[1:]\n",
    "    for row in range(len(data)):\n",
    "        new_data = data[row]\n",
    "        dict_movies = {}\n",
    "        for i in range(len(header)):\n",
    "            if 'actors' in (header[i]):\n",
    "                dict_movies[header[i]] = new_data[i].split(',')\n",
    "            elif 'year' in header[i]:\n",
    "                dict_movies[header[i]] = int(new_data[i])\n",
    "            elif 'rating' in [header[i]]:\n",
    "                dict_movies[header[i]] = float(new_data[i])\n",
    "            elif 'directors' in header[i]:\n",
    "                dict_movies[header[i]] = new_data[i].split(',')\n",
    "            elif 'genres' in header[i]:\n",
    "                dict_movies[header[i]] = new_data[i].split(',')\n",
    "            else:\n",
    "                dict_movies[header[i]] = new_data[i]          \n",
    "        list_movies.append(dict_movies)\n",
    "    return list_movies"
   ]
  },
  {
   "cell_type": "code",
   "execution_count": 5,
   "metadata": {},
   "outputs": [],
   "source": [
    "def get_movies(movies_path, mapping_path):\n",
    "    movie_data = get_raw_movies(movies_path)\n",
    "    mapping_data = get_mapping(mapping_path)\n",
    "    for vals in range(len(movie_data)):\n",
    "        if movie_data[vals]['title'] in mapping_data:\n",
    "            name_title = (movie_data[vals]['title'])\n",
    "            movie_data[vals]['title'] = mapping_data[name_title] \n",
    "        for vals2 in range(len(movie_data[vals]['directors'])):\n",
    "            if movie_data[vals]['directors'][vals2] in mapping_data:    \n",
    "                    directors = (movie_data[vals]['directors'][vals2])\n",
    "                    movie_data[vals]['directors'][vals2] = mapping_data[directors]\n",
    "        for vals3 in range(len(movie_data[vals]['actors'])):\n",
    "            if movie_data[vals]['actors'][vals3] in mapping_data:    \n",
    "                    actors = (movie_data[vals]['actors'][vals3])\n",
    "                    movie_data[vals]['actors'][vals3] = mapping_data[actors]\n",
    "    return movie_data"
   ]
  },
  {
   "cell_type": "code",
   "execution_count": 6,
   "metadata": {},
   "outputs": [],
   "source": [
    "movies = get_movies(\"movies.csv\", \"mapping.csv\")"
   ]
  },
  {
   "cell_type": "code",
   "execution_count": 7,
   "metadata": {},
   "outputs": [
    {
     "data": {
      "text/plain": [
       "6.380867346938772"
      ]
     },
     "execution_count": 7,
     "metadata": {},
     "output_type": "execute_result"
    }
   ],
   "source": [
    "#q1 Find the average rating for movies with less than 4 actors (length of actor list < 4)?\n",
    "count = 0\n",
    "rating = 0\n",
    "for rates in movies:\n",
    "    if len(rates['actors']) < 4 :\n",
    "        rating += rates['rating']\n",
    "        count += 1\n",
    "avg = rating/count\n",
    "avg"
   ]
  },
  {
   "cell_type": "code",
   "execution_count": 8,
   "metadata": {},
   "outputs": [
    {
     "data": {
      "text/plain": [
       "6.742857142857143"
      ]
     },
     "execution_count": 8,
     "metadata": {},
     "output_type": "execute_result"
    }
   ],
   "source": [
    "#q2 Find the average rating for movies with more than 5 actors (length of actor list > 5) ?\n",
    "count2 = 0\n",
    "rating2 = 0\n",
    "for rates2 in movies:\n",
    "    if len(rates2['actors']) > 5 :\n",
    "        rating2 += rates2['rating']\n",
    "        count2 +=1\n",
    "avg2 = rating2/count2\n",
    "avg2"
   ]
  },
  {
   "cell_type": "code",
   "execution_count": 9,
   "metadata": {},
   "outputs": [
    {
     "data": {
      "text/plain": [
       "6.413599999999994"
      ]
     },
     "execution_count": 9,
     "metadata": {},
     "output_type": "execute_result"
    }
   ],
   "source": [
    "#q3 What is the average rating of movies which start with the letter 'a' (case insensitive)? \n",
    "\n",
    "#this function is created to be further used for Q9 as well \n",
    "def alpha(alphabet):\n",
    "    count3 = 0\n",
    "    rating3 = 0\n",
    "    for rates3 in movies:\n",
    "        if (rates3['title'][0]).lower() == alphabet:\n",
    "            rating3 += rates3['rating']\n",
    "            count3 +=1\n",
    "    avg3 = rating3/count3\n",
    "    return avg3 \n",
    "alpha('a')"
   ]
  },
  {
   "cell_type": "code",
   "execution_count": 10,
   "metadata": {},
   "outputs": [
    {
     "data": {
      "image/png": "[encoded data removed]",
      "text/plain": [
       "<Figure size 432x288 with 1 Axes>"
      ]
     },
     "metadata": {
      "needs_background": "light"
     },
     "output_type": "display_data"
    }
   ],
   "source": [
    "#q4 Plot the title vs rating of movies featuring \"Tom Cruise\".\n",
    "def plot(a):\n",
    "    actor_count = 0\n",
    "    actor_rating = 0\n",
    "    dict_actors = {}\n",
    "    for actors in movies:\n",
    "        if a in actors['actors']:\n",
    "            dict_actors[actors['title']] = actors['rating'] \n",
    "    return dict_actors\n",
    "\n",
    "plot_dict(plot(\"Tom Cruise\"),\"rating\")"
   ]
  },
  {
   "cell_type": "code",
   "execution_count": 11,
   "metadata": {},
   "outputs": [
    {
     "data": {
      "image/png": "[encoded data removed]",
      "text/plain": [
       "<Figure size 432x288 with 1 Axes>"
      ]
     },
     "metadata": {
      "needs_background": "light"
     },
     "output_type": "display_data"
    }
   ],
   "source": [
    "#q5 Plot the title vs rating of movies featuring \"Sylvester Stallone\".\n",
    "plot_dict(plot(\"Sylvester Stallone\"),\"rating\")"
   ]
  },
  {
   "cell_type": "code",
   "execution_count": 12,
   "metadata": {},
   "outputs": [
    {
     "data": {
      "image/png": "[encoded data removed]",
      "text/plain": [
       "<Figure size 432x288 with 1 Axes>"
      ]
     },
     "metadata": {
      "needs_background": "light"
     },
     "output_type": "display_data"
    }
   ],
   "source": [
    "#q6 Plot the number of movies played by [\"John Wayne\", \"Glenn Ford\", \"Danny Glover\"].\n",
    "count_num = 0\n",
    "dict_map = {\"John Wayne\":0, \"Glenn Ford\":0, \"Danny Glover\":0} \n",
    "for num_movies in movies:\n",
    "        if \"John Wayne\" in num_movies['actors']:            \n",
    "            dict_map[\"John Wayne\"] += 1 \n",
    "        if  \"Glenn Ford\" in num_movies['actors']:           \n",
    "            dict_map[\"Glenn Ford\"] += 1 \n",
    "        if  \"Danny Glover\" in num_movies['actors']:            \n",
    "            dict_map[\"Danny Glover\"] += 1 \n",
    "    \n",
    "plot_dict(dict_map,\"Number of Movies\")"
   ]
  },
  {
   "cell_type": "code",
   "execution_count": 13,
   "metadata": {},
   "outputs": [
    {
     "data": {
      "image/png": "[encoded data removed]",
      "text/plain": [
       "<Figure size 432x288 with 1 Axes>"
      ]
     },
     "metadata": {
      "needs_background": "light"
     },
     "output_type": "display_data"
    }
   ],
   "source": [
    "#q7 Plot the number of movies that start with each letter of the alphabet.\n",
    "\n",
    "letters = \"abcdefghijklmnopqrstuvwxyz\"\n",
    "letter_to_num_movies = {}\n",
    "for letter in letters:\n",
    "    letter_to_num_movies[letter] = 0\n",
    "\n",
    "for x in movies:  \n",
    "    y = x['title'][0].lower()\n",
    "    if y in letter_to_num_movies:     \n",
    "        letter_to_num_movies[y] +=1\n",
    "        \n",
    "plot_dict(letter_to_num_movies,\"Number of Movies\")"
   ]
  },
  {
   "cell_type": "code",
   "execution_count": 14,
   "metadata": {},
   "outputs": [
    {
     "data": {
      "image/png": "[encoded data removed]",
      "text/plain": [
       "<Figure size 432x288 with 1 Axes>"
      ]
     },
     "metadata": {
      "needs_background": "light"
     },
     "output_type": "display_data"
    }
   ],
   "source": [
    "#q8 Plot the number of movies there are for each genre.\n",
    "genre_to_num_movies = {}\n",
    "\n",
    "for movie in movies:\n",
    "    for genre in movie['genres']:\n",
    "        if genre not in genre_to_num_movies:\n",
    "            genre_to_num_movies[genre] = 1\n",
    "        else:\n",
    "            genre_to_num_movies[genre] +=1\n",
    "                \n",
    "                \n",
    "plot_dict(genre_to_num_movies,\"Number of Movies\" )"
   ]
  },
  {
   "cell_type": "code",
   "execution_count": 15,
   "metadata": {},
   "outputs": [
    {
     "data": {
      "text/plain": [
       "{'a': 6.413599999999994,\n",
       " 'b': 6.312264150943395,\n",
       " 'c': 6.337362637362637,\n",
       " 'd': 6.297101449275363,\n",
       " 'e': 6.128125000000001,\n",
       " 'f': 6.375609756097562,\n",
       " 'g': 6.443181818181819,\n",
       " 'h': 6.476829268292684,\n",
       " 'i': 6.714814814814817,\n",
       " 'j': 6.375,\n",
       " 'k': 6.316666666666666,\n",
       " 'l': 6.172368421052631,\n",
       " 'm': 6.650000000000002,\n",
       " 'n': 6.348148148148147,\n",
       " 'o': 6.5814814814814815,\n",
       " 'p': 6.160377358490566,\n",
       " 'q': 6.7,\n",
       " 'r': 6.371052631578949,\n",
       " 's': 6.216352201257862,\n",
       " 't': 6.5432000000000015,\n",
       " 'u': 6.15,\n",
       " 'v': 6.1000000000000005,\n",
       " 'w': 6.243076923076923,\n",
       " 'y': 6.285714285714286,\n",
       " 'z': 6.833333333333333}"
      ]
     },
     "execution_count": 15,
     "metadata": {},
     "output_type": "execute_result"
    }
   ],
   "source": [
    "#q9 For each letter of the alphabet (except 'x'), what is the average rating of movies that start with that letter (case insensitive)?\n",
    "letters = \"abcdefghijklmnopqrstuvwyz\" # No x this time!\n",
    "letter_to_num_movies = {}\n",
    "for letter in letters:\n",
    "    letter_to_num_movies[letter] = 0\n",
    "\n",
    "for lett in movies:  \n",
    "    y = lett['title'][0].lower()\n",
    "    if y in letter_to_num_movies:     \n",
    "        letter_to_num_movies[y] = alpha(y)\n",
    "        \n",
    "letter_to_num_movies"
   ]
  },
  {
   "cell_type": "code",
   "execution_count": 16,
   "metadata": {},
   "outputs": [
    {
     "data": {
      "text/plain": [
       "{'Comedy': 6.3146391752577395,\n",
       " 'Drama': 6.529707495429615,\n",
       " 'Romance': 6.474147727272729,\n",
       " 'History': 6.661643835616438,\n",
       " 'Family': 6.512941176470589,\n",
       " 'Mystery': 6.275206611570249,\n",
       " 'Thriller': 5.981999999999998,\n",
       " 'Action': 6.125752508361202,\n",
       " 'Crime': 6.355182072829133,\n",
       " 'Adventure': 6.612367491166079,\n",
       " 'Western': 6.455309734513275,\n",
       " 'Music': 6.3947368421052655,\n",
       " 'Animation': 7.1533333333333315,\n",
       " 'Sport': 6.527083333333334,\n",
       " 'Fantasy': 6.405084745762712,\n",
       " 'War': 6.771717171717175,\n",
       " 'Sci-Fi': 6.104347826086958,\n",
       " 'Horror': 5.724705882352941}"
      ]
     },
     "execution_count": 16,
     "metadata": {},
     "output_type": "execute_result"
    }
   ],
   "source": [
    "#q10 What is the average movie rating for each genre?\n",
    "def gen_rate(val):\n",
    "    cnt = 0\n",
    "    rting = 0\n",
    "    for genre in movies:\n",
    "        if val in genre['genres']:\n",
    "            cnt +=1\n",
    "            rting += genre['rating']\n",
    "    avg = rting/cnt\n",
    "    return avg\n",
    "\n",
    "genre_to_num_movies = {}\n",
    "\n",
    "for movie in movies:\n",
    "    for genre in movie['genres']:\n",
    "        if genre not in genre_to_num_movies:\n",
    "            genre_to_num_movies[genre] = gen_rate(genre)\n",
    "genre_to_num_movies             "
   ]
  },
  {
   "cell_type": "code",
   "execution_count": 17,
   "metadata": {},
   "outputs": [
    {
     "data": {
      "text/plain": [
       "{'Comedy': 484,\n",
       " 'Drama': 1085,\n",
       " 'Romance': 352,\n",
       " 'History': 73,\n",
       " 'Family': 84,\n",
       " 'Mystery': 117,\n",
       " 'Thriller': 243,\n",
       " 'Action': 289,\n",
       " 'Crime': 351,\n",
       " 'Adventure': 280,\n",
       " 'Western': 226,\n",
       " 'Music': 38,\n",
       " 'Animation': 45,\n",
       " 'Sport': 47,\n",
       " 'Fantasy': 58,\n",
       " 'War': 99,\n",
       " 'Sci-Fi': 67,\n",
       " 'Horror': 81}"
      ]
     },
     "execution_count": 17,
     "metadata": {},
     "output_type": "execute_result"
    }
   ],
   "source": [
    "#q11 How many movies in each genre have a rating of above 4.0? (rating > 4.0) \n",
    "gen_val = {}\n",
    "\n",
    "for movie in movies:\n",
    "    if movie['rating'] > 4.0 :\n",
    "        for genre in movie['genres']:\n",
    "            if genre not in gen_val:\n",
    "                gen_val[genre] = 1\n",
    "            else:\n",
    "                gen_val[genre] += 1\n",
    "\n",
    "gen_val                    "
   ]
  },
  {
   "cell_type": "code",
   "execution_count": 18,
   "metadata": {},
   "outputs": [
    {
     "data": {
      "image/png": "[encoded data removed]",
      "text/plain": [
       "<Figure size 432x288 with 1 Axes>"
      ]
     },
     "metadata": {
      "needs_background": "light"
     },
     "output_type": "display_data"
    }
   ],
   "source": [
    "# q12 Plot the number of movies that were released each year in the last decade (2010<= year <=2020)\n",
    "year_mapp ={}\n",
    "\n",
    "for year in movies:\n",
    "    if year['year'] >= 2010 and year['year']<= 2020:\n",
    "        if year['year'] not in year_mapp:\n",
    "            year_mapp[year['year']] = 1\n",
    "        else:\n",
    "            year_mapp[year['year']] += 1\n",
    "                        \n",
    "plot_dict(year_mapp,\"Number of Releases\")  "
   ]
  },
  {
   "cell_type": "code",
   "execution_count": 19,
   "metadata": {},
   "outputs": [
    {
     "data": {
      "text/plain": [
       "[2015]"
      ]
     },
     "execution_count": 19,
     "metadata": {},
     "output_type": "execute_result"
    }
   ],
   "source": [
    "#q13 Which year (or years) had the highest number of movie releases?\n",
    "all_year ={}\n",
    "year_list = []\n",
    "init = 0\n",
    "year_val = \"\"\n",
    "for year in movies:\n",
    "    if year['year'] not in all_year:\n",
    "        all_year[year['year']] = 1\n",
    "    else:\n",
    "        all_year[year['year']] += 1\n",
    "                     \n",
    "for key,val in all_year.items():\n",
    "    if val > init :\n",
    "        init = val \n",
    "        \n",
    "\n",
    "for key,val in all_year.items():\n",
    "    if init == val:\n",
    "        year_val = key\n",
    "        year_list.append(year_val)\n",
    "            \n",
    "\n",
    "year_list"
   ]
  },
  {
   "cell_type": "code",
   "execution_count": 20,
   "metadata": {},
   "outputs": [
    {
     "data": {
      "text/plain": [
       "['Music', 'Animation', 'Sport', 'Fantasy', 'Sci-Fi']"
      ]
     },
     "execution_count": 20,
     "metadata": {},
     "output_type": "execute_result"
    }
   ],
   "source": [
    "#q14 Which 5 genres have the least number of movies?\n",
    "genre_movies = {}\n",
    "genre_list = []\n",
    "for movie in movies:\n",
    "    for genre in movie['genres']:\n",
    "        if genre not in genre_movies:\n",
    "            genre_movies[genre] = 1\n",
    "            genre_list.append(genre)\n",
    "        else: \n",
    "            genre_movies[genre] += 1\n",
    "\n",
    "def genre_sort(genre_name):\n",
    "    return genre_movies[genre_name]\n",
    "\n",
    "gen_sort = sorted(genre_list, key = genre_sort)\n",
    "gen_sort[:5]"
   ]
  },
  {
   "cell_type": "code",
   "execution_count": 21,
   "metadata": {},
   "outputs": [
    {
     "data": {
      "text/plain": [
       "['Action', 'Romance', 'Crime', 'Comedy', 'Drama']"
      ]
     },
     "execution_count": 21,
     "metadata": {},
     "output_type": "execute_result"
    }
   ],
   "source": [
    "#q15 Which 5 genres have the most number of movies?\n",
    "gen_sort[-5:]"
   ]
  },
  {
   "cell_type": "code",
   "execution_count": 22,
   "metadata": {},
   "outputs": [
    {
     "data": {
      "text/plain": [
       "['Robert De Niro',\n",
       " 'Robert Mitchum',\n",
       " 'Glenn Ford',\n",
       " 'George Sanders',\n",
       " 'Randolph Scott',\n",
       " 'Henry Fonda',\n",
       " 'Anthony Quinn',\n",
       " 'Mickey Rooney',\n",
       " 'Eric Roberts',\n",
       " 'John Wayne']"
      ]
     },
     "execution_count": 22,
     "metadata": {},
     "output_type": "execute_result"
    }
   ],
   "source": [
    "#q16 Which 10 actors are featured in the most movies?\n",
    "actor_dict = {}\n",
    "actor_list = []\n",
    "for actors in movies:\n",
    "    for actor in actors['actors']:\n",
    "        if actor not in actor_dict:\n",
    "            actor_list.append(actor)\n",
    "            actor_dict[actor] = 1\n",
    "        else:\n",
    "            actor_dict[actor] +=1\n",
    "def actor_sort(actor_name):\n",
    "    return actor_dict[actor_name]\n",
    "\n",
    "act_sort = sorted(actor_list, key = actor_sort)\n",
    "act_sort[-10:]"
   ]
  },
  {
   "cell_type": "code",
   "execution_count": 23,
   "metadata": {},
   "outputs": [
    {
     "data": {
      "text/plain": [
       "'John Wayne'"
      ]
     },
     "execution_count": 23,
     "metadata": {},
     "output_type": "execute_result"
    }
   ],
   "source": [
    "#q17 Which actor has played in the greatest number of movies?\n",
    "act_sort[-1]"
   ]
  },
  {
   "cell_type": "code",
   "execution_count": 24,
   "metadata": {},
   "outputs": [
    {
     "data": {
      "text/plain": [
       "1926"
      ]
     },
     "execution_count": 24,
     "metadata": {},
     "output_type": "execute_result"
    }
   ],
   "source": [
    "#q18 How many actors have only acted in only 1 movie?\n",
    "actors_count = 0\n",
    "for a,b in actor_dict.items():\n",
    "    if b == 1 :\n",
    "        actors_count+= 1\n",
    "actors_count"
   ]
  },
  {
   "cell_type": "code",
   "execution_count": 25,
   "metadata": {},
   "outputs": [
    {
     "data": {
      "text/plain": [
       "['The Godfather: Part II', 'The Dark Knight', 'The Godfather']"
      ]
     },
     "execution_count": 25,
     "metadata": {},
     "output_type": "execute_result"
    }
   ],
   "source": [
    "#q19 What are the titles of the top 3 rated movies in the dataset?\n",
    "titles_dict = {}\n",
    "titles_list = []\n",
    "for titles in movies:\n",
    "    if titles[\"title\"] not in titles_dict:\n",
    "        titles_list.append(titles[\"title\"])\n",
    "        titles_dict[titles[\"title\"]] = titles['rating']\n",
    "   \n",
    "        \n",
    "def title_sort(title_name):\n",
    "    return titles_dict[title_name]\n",
    "\n",
    "tit_sort = sorted(titles_list, key = title_sort)\n",
    "tit_sort[-3:]"
   ]
  },
  {
   "cell_type": "code",
   "execution_count": 26,
   "metadata": {},
   "outputs": [
    {
     "data": {
      "text/plain": [
       "['Silk',\n",
       " 'Stealing Las Vegas',\n",
       " 'Singularity',\n",
       " 'Body and Soul',\n",
       " 'Garden of the Dead',\n",
       " 'Beyond the Ring',\n",
       " \"Hitman's Run\",\n",
       " 'Betrayal',\n",
       " \"Jake's Road\",\n",
       " 'The Trouble with Spies',\n",
       " '2 Bedroom 1 Bath',\n",
       " 'Victim of Desire',\n",
       " 'Arsenal',\n",
       " 'Woman of Desire',\n",
       " 'Sweet Justice',\n",
       " 'Falcon Beach',\n",
       " 'The Flying Dutchman',\n",
       " 'The Mark: Redemption',\n",
       " 'The Steam Experiment']"
      ]
     },
     "execution_count": 26,
     "metadata": {},
     "output_type": "execute_result"
    }
   ],
   "source": [
    "#q20 What are the titles of the bottom 19 rated movies in the dataset?\n",
    "tit_sort[:19]"
   ]
  },
  {
   "cell_type": "code",
   "execution_count": null,
   "metadata": {},
   "outputs": [],
   "source": []
  }
 ],
 "metadata": {
  "kernelspec": {
   "display_name": "Python 3",
   "language": "python",
   "name": "python3"
  },
  "language_info": {
   "codemirror_mode": {
    "name": "ipython",
    "version": 3
   },
   "file_extension": ".py",
   "mimetype": "text/x-python",
   "name": "python",
   "nbconvert_exporter": "python",
   "pygments_lexer": "ipython3",
   "version": "3.8.3"
  }
 },
 "nbformat": 4,
 "nbformat_minor": 4
}
