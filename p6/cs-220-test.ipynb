{
 "cells": [
  {
   "cell_type": "code",
   "execution_count": 1,
   "metadata": {},
   "outputs": [],
   "source": [
    "# project: p6\n",
    "# submitter: rarora23\n",
    "# partner: munjal3"
   ]
  },
  {
   "cell_type": "code",
   "execution_count": 2,
   "metadata": {},
   "outputs": [],
   "source": [
    "import csv\n",
    "\n",
    "# copied from https://automatetheboringstuff.com/chapter14/\n",
    "def process_csv(filename):\n",
    "    exampleFile = open(filename, encoding=\"utf-8\")\n",
    "    exampleReader = csv.reader(exampleFile)\n",
    "    exampleData = list(exampleReader)\n",
    "    exampleFile.close()\n",
    "    return exampleData\n",
    "\n",
    "# use process_csv to pull out the header and data rows\n",
    "csv_rows = process_csv(\"airbnb.csv\")\n",
    "csv_header = csv_rows[0]\n",
    "csv_data = csv_rows[1:]\n"
   ]
  },
  {
   "cell_type": "code",
   "execution_count": 3,
   "metadata": {},
   "outputs": [],
   "source": [
    "def cell(row_idx, col_name):\n",
    "    col_idx = csv_header.index(col_name)\n",
    "    val = csv_data[row_idx][col_idx]\n",
    "    if col_name in [\"name\",\"host_name\",\"neighborhood_group\" ,\"neighborhood\",\"room_type\"] :\n",
    "        if val == \"\":\n",
    "            return None\n",
    "        else:\n",
    "            return val\n",
    "    if col_name in [\"latitude\",\"longitude\",\"reviews_per_month\"] :\n",
    "         if val == \"\":\n",
    "            return None\n",
    "         else:\n",
    "            return float(val)\n",
    "    else:\n",
    "        if val == \"\":\n",
    "            return None\n",
    "        else:\n",
    "            return int(val)"
   ]
  },
  {
   "cell_type": "code",
   "execution_count": 4,
   "metadata": {},
   "outputs": [
    {
     "data": {
      "text/plain": [
       "['Brooklyn', 'Manhattan', 'Queens', 'Staten Island', 'Bronx']"
      ]
     },
     "execution_count": 4,
     "metadata": {},
     "output_type": "execute_result"
    }
   ],
   "source": [
    "#q1 What neighborhood groups are present in the airbnb dataset?\n",
    "def uniqm():\n",
    "    uniq_name = []\n",
    "    for i in range(len(csv_data)):\n",
    "        if csv_data[i][csv_header.index(\"neighborhood_group\")] not in uniq_name:\n",
    "            uniq_name.append(csv_data[i][csv_header.index(\"neighborhood_group\")])\n",
    "    return uniq_name\n",
    "\n",
    "uniqm()"
   ]
  },
  {
   "cell_type": "code",
   "execution_count": 5,
   "metadata": {},
   "outputs": [
    {
     "data": {
      "text/plain": [
       "152.7206871868289"
      ]
     },
     "execution_count": 5,
     "metadata": {},
     "output_type": "execute_result"
    }
   ],
   "source": [
    "#q2 What is the average price?\n",
    "def avp():    \n",
    "    count = 0\n",
    "    for i in range(len(csv_data)):\n",
    "        count += cell(i,\"price\")\n",
    "    return count/len(csv_data)\n",
    "    \n",
    "avp()"
   ]
  },
  {
   "cell_type": "code",
   "execution_count": 6,
   "metadata": {},
   "outputs": [
    {
     "data": {
      "text/plain": [
       "368"
      ]
     },
     "execution_count": 6,
     "metadata": {},
     "output_type": "execute_result"
    }
   ],
   "source": [
    "#q3  Count the number of rooms located in neighborhood \"Chinatown\"? (neighborhood==\"Chinatown\")\n",
    "def numr():    \n",
    "    room = 0\n",
    "    for i in range(len(csv_data)):\n",
    "        if cell(i,\"neighborhood\") == \"Chinatown\":\n",
    "            room += 1\n",
    "    return room\n",
    "numr()"
   ]
  },
  {
   "cell_type": "code",
   "execution_count": 7,
   "metadata": {},
   "outputs": [
    {
     "data": {
      "text/plain": [
       "['UWS MANHATTAN APT FOR SUPERBOWL WE',\n",
       " 'SuperBowl West Village Apartment',\n",
       " 'SUPERBOWL!! 2 Bd, 2 Ba w Roof Deck!',\n",
       " '1500 sq ft apt sleeps 8 - SuperBowl',\n",
       " 'Superbowl Studio Upper West Side',\n",
       " '1BR Superbowl rental Hells Kitchen',\n",
       " 'Superbowl - NYC Apartment',\n",
       " 'Tribeca Loft for Superbowl Wknd',\n",
       " 'NYC SuperBowl Wk 5 Bdrs River View ',\n",
       " 'Downtown NY Apt - SuperBowl Weekend',\n",
       " 'SuperBowl Penthouse Loft 3,000 sqft',\n",
       " 'Superbowl in the West Village',\n",
       " 'SUPERBOWLSUNDAY! 3BLOCK FROM TIMESQ',\n",
       " 'Super Apt for Superbowl',\n",
       " 'PERFECT SUPERBOWL STAY',\n",
       " 'MANHATTAN SUPERBOWL ACCOMODATION',\n",
       " 'SuperBowl Weekend Rental! 3 BR/1ba']"
      ]
     },
     "execution_count": 7,
     "metadata": {},
     "output_type": "execute_result"
    }
   ],
   "source": [
    "#q4 Find the room names containing \"superbowl\" (case insensitive)\n",
    "def supb(a):\n",
    "    room_name = []\n",
    "    for i in range(len(csv_data)):\n",
    "        if cell(i,\"name\") == None :\n",
    "            continue\n",
    "        elif a in  cell(i,\"name\").lower():\n",
    "            room_name.append(cell(i,\"name\"))\n",
    "    return room_name \n",
    "        \n",
    "supb(\"superbowl\")  "
   ]
  },
  {
   "cell_type": "code",
   "execution_count": 8,
   "metadata": {},
   "outputs": [
    {
     "data": {
      "text/plain": [
       "['Dream Room in Sunnyside New York',\n",
       " 'The Dream Room near Barclays Center',\n",
       " 'Dream Room in Modern Apartment',\n",
       " 'Lower East Dream Room!',\n",
       " 'The Dream Room (Private Room)',\n",
       " 'DREAM ROOM: gorgegous renovated 1bd, 1 bath',\n",
       " 'Exclusive Dream room 8 mins from JFK Smoking OK!',\n",
       " 'King Size Dream Room',\n",
       " 'KingSize Dream Room']"
      ]
     },
     "execution_count": 8,
     "metadata": {},
     "output_type": "execute_result"
    }
   ],
   "source": [
    "#q5 Find the room names containing \"dream room\" (case insensitive)\n",
    "supb(\"dream room\") "
   ]
  },
  {
   "cell_type": "code",
   "execution_count": 9,
   "metadata": {},
   "outputs": [
    {
     "data": {
      "text/plain": [
       "['One Bedroom Mini studio - Free WIFI',\n",
       " 'Great Chelsea Location, Couch/2nd bed, Free WiFi',\n",
       " 'Private 2 BR APT: Free WIFI & JACUZZI',\n",
       " 'PRIVATE 1BR APT: Free WIFI & DIRECT TV',\n",
       " 'Landmark 1 Bedroom has 2 beds, Free WiFi',\n",
       " 'Modern and Safe Place,Free Wifi',\n",
       " 'Newly renovated 2 bedroom with FREE WIFI',\n",
       " '*NO GUEST SERVICE FEE* Beekman Tower Studio with Queen Bed & Free Wifi',\n",
       " '*NO GUEST SERVICE FEE* Beekman Tower One Bedroom Suite with Queen Bed & Free Wifi',\n",
       " 'Sunny Hudson Yards/ Chelsea Studio, Free WiFi',\n",
       " 'Private Bedroom in MANHATTAN (Free Wifi)',\n",
       " 'J- LUXURY SHARED ROOM, AC FREE WIFI+CABLE GARDEN',\n",
       " 'J- *LUXURY SHARED ROOM AC FREE WIFI CABLE, GARDEN',\n",
       " 'J- **LUXURY SHARED ROOM 2PPL FREE WIFI+CABLE+AC',\n",
       " '5min walk to L train - Free WiFi & Cleaning',\n",
       " 'J- HOTEL STYLE SHARE ROOM FOR 2PPL FREE WIFI CABLE',\n",
       " 'Explore NYC From Our Private Studio w/Free Wifi',\n",
       " 'Staten Island - Free Wifi, Parking Space, Near NYC',\n",
       " 'BIG BEDROOM CLOSE TO LA GUARDIA AIRPORT FREE WIFI',\n",
       " 'J- COZY ROOM FOR 1 FEMALE FREE WIFI & COFFEE']"
      ]
     },
     "execution_count": 9,
     "metadata": {},
     "output_type": "execute_result"
    }
   ],
   "source": [
    "#q6 Find the room names containing \"free wifi\" (case insensitive)\n",
    "supb(\"free wifi\")"
   ]
  },
  {
   "cell_type": "code",
   "execution_count": 10,
   "metadata": {},
   "outputs": [
    {
     "data": {
      "text/plain": [
       "['Yolande']"
      ]
     },
     "execution_count": 10,
     "metadata": {},
     "output_type": "execute_result"
    }
   ],
   "source": [
    "#q7 Which host names (host_name column) are anagrams of the phrase \"landeyo\"?\n",
    "def anagr():\n",
    "    anag_name = []\n",
    "    phr = \"landeyo\"\n",
    "    for i in range(len(csv_data)):\n",
    "        if cell(i,\"host_name\") == None :\n",
    "            continue\n",
    "        elif sorted(phr) == sorted(cell(i,\"host_name\").lower()):\n",
    "            anag_name.append(cell(i,\"host_name\"))\n",
    "    return anag_name\n",
    "anagr()                            "
   ]
  },
  {
   "cell_type": "code",
   "execution_count": 11,
   "metadata": {},
   "outputs": [
    {
     "data": {
      "text/plain": [
       "['568684',\n",
       " '1615764',\n",
       " '4204302',\n",
       " '5431845',\n",
       " '6169897',\n",
       " '8341919',\n",
       " '8668115',\n",
       " '10053943',\n",
       " '11096888',\n",
       " '12888849',\n",
       " '20990053',\n",
       " '27362309',\n",
       " '30378211',\n",
       " '35834935']"
      ]
     },
     "execution_count": 11,
     "metadata": {},
     "output_type": "execute_result"
    }
   ],
   "source": [
    "#q8 List all room ids that require the minimum nights greater than 365 days (minimum_nights > 365).\n",
    "def minnig():\n",
    "    min_ngt = []\n",
    "    for i in range(len(csv_data)):\n",
    "        if cell(i,\"minimum_nights\") == None :\n",
    "            continue\n",
    "        elif cell(i,\"minimum_nights\") > 365:\n",
    "            min_ngt.append(str(cell(i,\"room_id\")))\n",
    "    return min_ngt\n",
    "minnig()"
   ]
  },
  {
   "cell_type": "code",
   "execution_count": 12,
   "metadata": {},
   "outputs": [
    {
     "data": {
      "text/plain": [
       "['12243051',\n",
       " '30283594',\n",
       " '22541573',\n",
       " '107434423',\n",
       " '1475015',\n",
       " '200380610',\n",
       " '137358866',\n",
       " '219517861',\n",
       " '16098958',\n",
       " '61391963',\n",
       " '7503643']"
      ]
     },
     "execution_count": 12,
     "metadata": {},
     "output_type": "execute_result"
    }
   ],
   "source": [
    "#q9 List all host ids who are hosting greater than 50 rooms. (calculated_host_listings_count > 50)\n",
    "def host():\n",
    "    hst_id = []\n",
    "    for i in range(len(csv_data)):\n",
    "        if cell(i,\"calculated_host_listings_count\") == None :\n",
    "            continue\n",
    "        elif cell(i,\"calculated_host_listings_count\") > 50:\n",
    "            if str(cell(i,\"calculated_host_listings_count\")) not in hst_id:\n",
    "                hst_id.append(str(cell(i,\"host_id\")))\n",
    "                \n",
    "    return list(set(hst_id))\n",
    "host()"
   ]
  },
  {
   "cell_type": "code",
   "execution_count": 13,
   "metadata": {},
   "outputs": [
    {
     "data": {
      "text/plain": [
       "['Huge Brooklyn Brownstone Living, Close to it all.',\n",
       " 'MARTIAL LOFT 3: REDEMPTION (upstairs, 2nd room)',\n",
       " 'Sunny, Quiet Room in Greenpoint',\n",
       " 'Modern apartment in the heart of Williamsburg',\n",
       " 'Spacious comfortable master bedroom with nice view',\n",
       " 'Contemporary bedroom in brownstone with nice view',\n",
       " 'Cozy yet spacious private brownstone bedroom',\n",
       " 'Coliving in Brooklyn! Modern design / Shared room',\n",
       " 'Best Coliving space ever! Shared room.']"
      ]
     },
     "execution_count": 13,
     "metadata": {},
     "output_type": "execute_result"
    }
   ],
   "source": [
    "#q10 What are the names of the cheapest rooms in Brooklyn (neighborhood_group == \"Brooklyn\")?\n",
    "def cheap(cr):\n",
    "    rate = []\n",
    "    fin_rate = []\n",
    "    price = 10**9\n",
    "    for i in range(len(csv_data)):\n",
    "        if cell(i,\"neighborhood_group\") == None:\n",
    "            continue\n",
    "        elif cell(i,\"neighborhood_group\") == cr:\n",
    "                rate.append(i)\n",
    "    for i in rate:\n",
    "        if cell(i,\"price\") < price:\n",
    "            price = cell(i,\"price\")\n",
    "    for i in rate:\n",
    "        if cell(i,\"price\") == price:\n",
    "            fin_rate.append(cell(i,\"name\"))\n",
    "        \n",
    "    return fin_rate\n",
    "cheap(\"Brooklyn\")"
   ]
  },
  {
   "cell_type": "code",
   "execution_count": 14,
   "metadata": {},
   "outputs": [
    {
     "data": {
      "text/plain": [
       "['the best you can find']"
      ]
     },
     "execution_count": 14,
     "metadata": {},
     "output_type": "execute_result"
    }
   ],
   "source": [
    "#q11 What are the names of the cheapest rooms in Manhattan (neighborhood_group == \"Manhattan\")?\n",
    "cheap(\"Manhattan\")"
   ]
  },
  {
   "cell_type": "code",
   "execution_count": 15,
   "metadata": {},
   "outputs": [
    {
     "data": {
      "text/plain": [
       "1.022127111023942"
      ]
     },
     "execution_count": 15,
     "metadata": {},
     "output_type": "execute_result"
    }
   ],
   "source": [
    "#q12 What is the average ratio of the number of reviews to availiability?  \n",
    "def avail():\n",
    "    num_rev = 0\n",
    "    cnt = 0\n",
    "    for i in range(len(csv_data)):\n",
    "        if cell(i,\"availability_365\") == None :\n",
    "            continue\n",
    "        elif cell(i,\"availability_365\") > 0:\n",
    "            num_rev += cell(i,\"number_of_reviews\")/cell(i,\"availability_365\")\n",
    "            cnt +=1\n",
    "\n",
    "            \n",
    "    return num_rev/cnt\n",
    "avail()        \n",
    "    "
   ]
  },
  {
   "cell_type": "code",
   "execution_count": 16,
   "metadata": {},
   "outputs": [
    {
     "data": {
      "text/plain": [
       "['18750597']"
      ]
     },
     "execution_count": 16,
     "metadata": {},
     "output_type": "execute_result"
    }
   ],
   "source": [
    "#q13 Which room ids have the cheapest price among rooms within (40.50 <= latitude <= 40.75, -74.00 <= longitude <= -73.95)\n",
    "def ids():\n",
    "    p1 = []\n",
    "    p2 = []\n",
    "    price13 = 10**9\n",
    "    for i in range(len(csv_data)): \n",
    "        if (40.50 <= cell(i,\"latitude\") <= 40.75 )& (-74.00 <= cell(i,\"longitude\") <= -73.95):\n",
    "            p1.append(i)\n",
    "    for i in p1:\n",
    "        if cell(i,\"price\") < price13:\n",
    "            price13 = cell(i,\"price\")\n",
    "    for i in p1:\n",
    "        if cell(i,\"price\") == price13:\n",
    "            p2.append(str(cell(i,\"room_id\")))\n",
    "        \n",
    "    return p2  \n",
    "ids()    \n",
    "             "
   ]
  },
  {
   "cell_type": "code",
   "execution_count": 17,
   "metadata": {},
   "outputs": [
    {
     "data": {
      "text/plain": [
       "['20333471']"
      ]
     },
     "execution_count": 17,
     "metadata": {},
     "output_type": "execute_result"
    }
   ],
   "source": [
    "#q14 Which room ids have the cheapest price among rooms within (40.75 <= latitude <= 41.00, -73.95 <= longitude <= -73.85)\n",
    "def ids2():\n",
    "    p11 = []\n",
    "    p22 = []\n",
    "    price14 = 10**9\n",
    "    for i in range(len(csv_data)): \n",
    "        if (40.75 <= cell(i,\"latitude\") <= 41.00 )& (-73.95 <= cell(i,\"longitude\") <= -73.85):\n",
    "            p11.append(i)\n",
    "    for i in p11:\n",
    "        if cell(i,\"price\") < price14:\n",
    "            price14 = cell(i,\"price\")\n",
    "    for i in p11:\n",
    "        if cell(i,\"price\") == price14:\n",
    "            p22.append(str(cell(i,\"room_id\")))\n",
    "        \n",
    "    return p22  \n",
    "ids2()    \n",
    "             "
   ]
  },
  {
   "cell_type": "code",
   "execution_count": 18,
   "metadata": {},
   "outputs": [
    {
     "data": {
      "text/plain": [
       "105.51515151515152"
      ]
     },
     "execution_count": 18,
     "metadata": {},
     "output_type": "execute_result"
    }
   ],
   "source": [
    "#q15 What is the average price of rooms that have greater than 300 reviews?\n",
    "def price():\n",
    "    tot_price = 0\n",
    "    ct = 0\n",
    "    for i in range(len(csv_data)):\n",
    "        if cell(i,\"number_of_reviews\") == None:\n",
    "            continue\n",
    "        elif cell(i,\"number_of_reviews\") > 300:\n",
    "            tot_price += cell(i,\"price\")\n",
    "            ct +=1 \n",
    "    return tot_price/ct\n",
    "            \n",
    "price()   "
   ]
  },
  {
   "cell_type": "code",
   "execution_count": 19,
   "metadata": {},
   "outputs": [
    {
     "data": {
      "text/plain": [
       "6.410041841004184"
      ]
     },
     "execution_count": 19,
     "metadata": {},
     "output_type": "execute_result"
    }
   ],
   "source": [
    "#q16 What is the average number of reviews of rooms that have price greater than 1000 dollars?\n",
    "def rev():\n",
    "    num_rev = 0\n",
    "    val = 0\n",
    "    for i in range(len(csv_data)):\n",
    "        if cell(i,\"number_of_reviews\") == None:\n",
    "            continue\n",
    "        elif cell(i,\"price\") > 1000:\n",
    "            num_rev += cell(i,\"number_of_reviews\")\n",
    "            val +=1 \n",
    "    return num_rev/val\n",
    "            \n",
    "rev()   "
   ]
  },
  {
   "cell_type": "code",
   "execution_count": 20,
   "metadata": {},
   "outputs": [
    {
     "data": {
      "text/plain": [
       "30.569948186528496"
      ]
     },
     "execution_count": 20,
     "metadata": {},
     "output_type": "execute_result"
    }
   ],
   "source": [
    "#q17 What percentage of rooms whose name contains the word \"sweet\" also contain the word \"home\" in its name? (case insensitive)\n",
    "def perc(w1,w2):\n",
    "    ct_room1 = 0\n",
    "    ct_room2 = 0\n",
    "    list1 = []\n",
    "\n",
    "    for i in range(len(csv_data)):\n",
    "        if cell(i,\"name\") == None :\n",
    "            continue\n",
    "        elif w1 in  cell(i,\"name\").lower():\n",
    "            ct_room1 +=1\n",
    "            if w2 in cell(i,\"name\").lower():\n",
    "                list1.append(cell(i,\"name\"))\n",
    "                ct_room2 += 1\n",
    "                        \n",
    "    \n",
    "    return ct_room2/ct_room1 *100\n",
    "perc(\"sweet\",\"home\")\n"
   ]
  },
  {
   "cell_type": "code",
   "execution_count": 21,
   "metadata": {},
   "outputs": [
    {
     "data": {
      "text/plain": [
       "48.92086330935252"
      ]
     },
     "execution_count": 21,
     "metadata": {},
     "output_type": "execute_result"
    }
   ],
   "source": [
    "#q18  What percentage of rooms whose name contains the word \"pool\" also contain the word \"gym\" in its name? (case insensitive)\n",
    "perc(\"pool\",\"gym\")"
   ]
  },
  {
   "cell_type": "code",
   "execution_count": 22,
   "metadata": {},
   "outputs": [
    {
     "data": {
      "text/plain": [
       "10.0"
      ]
     },
     "execution_count": 22,
     "metadata": {},
     "output_type": "execute_result"
    }
   ],
   "source": [
    "#q19 What percentage of rooms whose name contains the word \"five\" also contain the word \"stars\" in its name? (case insensitive)\n",
    "perc(\"five\",\"stars\")"
   ]
  },
  {
   "cell_type": "code",
   "execution_count": 23,
   "metadata": {},
   "outputs": [
    {
     "data": {
      "text/plain": [
       "350000"
      ]
     },
     "execution_count": 23,
     "metadata": {},
     "output_type": "execute_result"
    }
   ],
   "source": [
    "#q20 What is the total cost of staying in the most expensive room in Manhattan for the minimum number of nights and then staying in the most expensive room in Brooklyn for their minimum number of nights.\n",
    "def final_cost1(name):\n",
    "    maxm = [] \n",
    "    max_rate = 0\n",
    "    min_nit = 0\n",
    "    for i in range(len(csv_data)):\n",
    "        if cell(i,\"neighborhood_group\") == None:\n",
    "            continue\n",
    "        elif cell(i,\"neighborhood_group\") == name:\n",
    "                maxm.append(i)\n",
    "    for i in maxm:\n",
    "        if cell(i,\"price\") > max_rate:\n",
    "            max_rate = cell(i,\"price\")\n",
    "            min_nit = cell(i,\"minimum_nights\")\n",
    "    return max_rate*min_nit\n",
    "\n",
    "\n",
    "final_cost1(\"Manhattan\") + final_cost1(\"Brooklyn\")"
   ]
  }
 ],
 "metadata": {
  "kernelspec": {
   "display_name": "Python 3",
   "language": "python",
   "name": "python3"
  },
  "language_info": {
   "codemirror_mode": {
    "name": "ipython",
    "version": 3
   },
   "file_extension": ".py",
   "mimetype": "text/x-python",
   "name": "python",
   "nbconvert_exporter": "python",
   "pygments_lexer": "ipython3",
   "version": "3.8.3"
  }
 },
 "nbformat": 4,
 "nbformat_minor": 4
}
