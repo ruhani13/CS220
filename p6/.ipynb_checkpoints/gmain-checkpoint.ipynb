{
 "cells": [
  {
   "cell_type": "code",
   "execution_count": 1,
   "metadata": {},
   "outputs": [],
   "source": [
    "import csv\n",
    "\n",
    "# copied from https://automatetheboringstuff.com/chapter14/\n",
    "def process_csv(filename):\n",
    "    exampleFile = open(filename, encoding=\"utf-8\")\n",
    "    exampleReader = csv.reader(exampleFile)\n",
    "    exampleData = list(exampleReader)\n",
    "    exampleFile.close()\n",
    "    return exampleData\n",
    "\n",
    "# use process_csv to pull out the header and data rows\n",
    "csv_rows = process_csv(\"wine.csv\")\n",
    "csv_header = csv_rows[0]\n",
    "csv_data = csv_rows[1:]"
   ]
  },
  {
   "cell_type": "code",
   "execution_count": 2,
   "metadata": {},
   "outputs": [
    {
     "data": {
      "text/plain": [
       "['country', 'points', 'price', 'variety', 'winery', 'description']"
      ]
     },
     "execution_count": 2,
     "metadata": {},
     "output_type": "execute_result"
    }
   ],
   "source": [
    "csv_header"
   ]
  },
  {
   "cell_type": "code",
   "execution_count": 3,
   "metadata": {},
   "outputs": [
    {
     "data": {
      "text/plain": [
       "1501"
      ]
     },
     "execution_count": 3,
     "metadata": {},
     "output_type": "execute_result"
    }
   ],
   "source": [
    "len(csv_data)"
   ]
  },
  {
   "cell_type": "code",
   "execution_count": 4,
   "metadata": {},
   "outputs": [
    {
     "data": {
      "text/plain": [
       "[['US',\n",
       "  '96',\n",
       "  '235.0',\n",
       "  'Cabernet Sauvignon',\n",
       "  'Heitz',\n",
       "  'This tremendous 100% varietal wine hails from Oakville and was aged over three years in oak. Juicy red-cherry fruit and a compelling hint of caramel greet the palate, framed by elegant, fine tannins and a subtle minty tone in the background. Balanced and rewarding from start to finish, it has years ahead of it to develop further nuance. Enjoy 2022–2030.'],\n",
       " ['Spain',\n",
       "  '96',\n",
       "  '110.0',\n",
       "  'Tinta de Toro',\n",
       "  'Bodega Carmen Rodríguez',\n",
       "  'Ripe aromas of fig, blackberry and cassis are softened and sweetened by a slathering of oaky chocolate and vanilla. This is full, layered, intense and cushioned on the palate, with rich flavors of chocolaty black fruits and baking spices. A toasty, everlasting finish is heady but ideally balanced. Drink through 2023.'],\n",
       " ['US',\n",
       "  '96',\n",
       "  '90.0',\n",
       "  'Sauvignon Blanc',\n",
       "  'Macauley',\n",
       "  'Mac Watson honors the memory of a wine once made by his mother in this tremendously delicious, balanced and complex botrytised white. Dark gold in color, it layers toasted hazelnut, pear compote and orange peel flavors, reveling in the succulence of its 122 g/L of residual sugar.'],\n",
       " ['US',\n",
       "  '96',\n",
       "  '65.0',\n",
       "  'Pinot Noir',\n",
       "  'Ponzi',\n",
       "  \"This spent 20 months in 30% new French oak, and incorporates fruit from Ponzi's Aurora, Abetina and Madrona vineyards, among others. Aromatic, dense and toasty, it deftly blends aromas and flavors of toast, cigar box, blackberry, black cherry, coffee and graphite. Tannins are polished to a fine sheen, and frame a finish loaded with dark chocolate and espresso. Drink now through 2032.\"],\n",
       " ['France',\n",
       "  '95',\n",
       "  '66.0',\n",
       "  'Provence red blend',\n",
       "  'Domaine de la Bégude',\n",
       "  'This is the top wine from La Bégude, named after the highest point in the vineyard at 1200 feet. It has structure, density and considerable acidity that is still calming down. With 18 months in wood, the wine has developing an extra richness and concentration. Produced by the Tari family, formerly of Château Giscours in Margaux, it is a wine made for aging. Drink from 2020.']]"
      ]
     },
     "execution_count": 4,
     "metadata": {},
     "output_type": "execute_result"
    }
   ],
   "source": [
    "csv_data[:5]"
   ]
  },
  {
   "cell_type": "code",
   "execution_count": 5,
   "metadata": {},
   "outputs": [
    {
     "data": {
      "text/plain": [
       "'Tinta de Toro'"
      ]
     },
     "execution_count": 5,
     "metadata": {},
     "output_type": "execute_result"
    }
   ],
   "source": [
    "csv_data[1][csv_header.index(\"variety\")]"
   ]
  },
  {
   "cell_type": "code",
   "execution_count": 6,
   "metadata": {},
   "outputs": [],
   "source": [
    "def cell(row_idx, col_name):\n",
    "    col_idx = csv_header.index(col_name)\n",
    "    val = csv_data[row_idx][col_idx]\n",
    "    if val == \"\":\n",
    "        return None\n",
    "    if col_name=='price':\n",
    "        return float(val)\n",
    "    if col_name=='points':\n",
    "        return int(val)\n",
    "    return val"
   ]
  },
  {
   "cell_type": "code",
   "execution_count": 7,
   "metadata": {},
   "outputs": [
    {
     "data": {
      "text/plain": [
       "235.0"
      ]
     },
     "execution_count": 7,
     "metadata": {},
     "output_type": "execute_result"
    }
   ],
   "source": [
    "cell(0, \"price\")"
   ]
  },
  {
   "cell_type": "code",
   "execution_count": 8,
   "metadata": {},
   "outputs": [
    {
     "data": {
      "text/plain": [
       "'Pinot Noir'"
      ]
     },
     "execution_count": 8,
     "metadata": {},
     "output_type": "execute_result"
    }
   ],
   "source": [
    "cell(3, \"variety\")"
   ]
  },
  {
   "cell_type": "code",
   "execution_count": 9,
   "metadata": {},
   "outputs": [
    {
     "name": "stdout",
     "output_type": "stream",
     "text": [
      "original list: ['A', 'B', 'C']\n",
      "returned value: None\n"
     ]
    }
   ],
   "source": [
    "letters = [\"B\", \"C\", \"A\"]\n",
    "\n",
    "result = letters.sort()\n",
    "\n",
    "print(\"original list:\", letters)\n",
    "print(\"returned value:\", result)"
   ]
  },
  {
   "cell_type": "code",
   "execution_count": 10,
   "metadata": {},
   "outputs": [
    {
     "name": "stdout",
     "output_type": "stream",
     "text": [
      "original list: ['B', 'C', 'A']\n",
      "returned value: ['A', 'B', 'C']\n"
     ]
    }
   ],
   "source": [
    "letters = [\"B\", \"C\", \"A\"]\n",
    "\n",
    "result = sorted(letters)\n",
    "\n",
    "print(\"original list:\", letters)\n",
    "print(\"returned value:\", result)"
   ]
  },
  {
   "cell_type": "code",
   "execution_count": 11,
   "metadata": {},
   "outputs": [
    {
     "name": "stdout",
     "output_type": "stream",
     "text": [
      "original str: BCA\n",
      "returned value: ['A', 'B', 'C']\n"
     ]
    }
   ],
   "source": [
    "s = \"BCA\"\n",
    "\n",
    "result = sorted(s)\n",
    "\n",
    "print(\"original str:\", s)\n",
    "print(\"returned value:\", result)"
   ]
  },
  {
   "cell_type": "code",
   "execution_count": 12,
   "metadata": {},
   "outputs": [
    {
     "name": "stdout",
     "output_type": "stream",
     "text": [
      "original list: ['C', 'A']\n",
      "returned value: B\n"
     ]
    }
   ],
   "source": [
    "letters = [\"B\", \"C\", \"A\"]\n",
    "\n",
    "result = letters.pop(0)\n",
    "\n",
    "print(\"original list:\", letters)\n",
    "print(\"returned value:\", result)"
   ]
  },
  {
   "cell_type": "code",
   "execution_count": 13,
   "metadata": {},
   "outputs": [
    {
     "name": "stdout",
     "output_type": "stream",
     "text": [
      "['A', 'B', 'C']\n",
      "{'B', 'A', 'C'}\n"
     ]
    }
   ],
   "source": [
    "example_list = [\"A\", \"B\", \"C\"]\n",
    "print(example_list)\n",
    "example_set = {\"A\", \"B\", \"C\"}\n",
    "print(example_set)"
   ]
  },
  {
   "cell_type": "code",
   "execution_count": 14,
   "metadata": {
    "scrolled": true
   },
   "outputs": [
    {
     "data": {
      "text/plain": [
       "True"
      ]
     },
     "execution_count": 14,
     "metadata": {},
     "output_type": "execute_result"
    }
   ],
   "source": [
    "\"A\" in example_list"
   ]
  },
  {
   "cell_type": "code",
   "execution_count": 15,
   "metadata": {},
   "outputs": [
    {
     "data": {
      "text/plain": [
       "True"
      ]
     },
     "execution_count": 15,
     "metadata": {},
     "output_type": "execute_result"
    }
   ],
   "source": [
    "\"A\" in example_set"
   ]
  },
  {
   "cell_type": "code",
   "execution_count": 16,
   "metadata": {},
   "outputs": [
    {
     "name": "stdout",
     "output_type": "stream",
     "text": [
      "{1, 2, 4}\n"
     ]
    }
   ],
   "source": [
    "items = [1,2,4]\n",
    "items_set = set(items)\n",
    "print(items_set)"
   ]
  },
  {
   "cell_type": "code",
   "execution_count": 5,
   "metadata": {},
   "outputs": [
    {
     "name": "stdout",
     "output_type": "stream",
     "text": [
      "[2, 4, 5]\n"
     ]
    }
   ],
   "source": [
    "items = {4,2,5}\n",
    "items_list = list(items)\n",
    "print(items_list)"
   ]
  },
  {
   "cell_type": "code",
   "execution_count": 18,
   "metadata": {},
   "outputs": [
    {
     "name": "stdout",
     "output_type": "stream",
     "text": [
      "3.0\n"
     ]
    }
   ],
   "source": [
    "x = 3.8\n",
    "y = float(int(x))\n",
    "print(y)"
   ]
  },
  {
   "cell_type": "code",
   "execution_count": 3,
   "metadata": {},
   "outputs": [
    {
     "name": "stdout",
     "output_type": "stream",
     "text": [
      "['A', 'B', 'C']\n"
     ]
    }
   ],
   "source": [
    "list_1 = [\"A\", \"B\", \"B\", \"C\", \"C\", \"B\", \"A\"] # try playing with different values here\n",
    "set1=set(list_1)\n",
    "list_2 = list(set(list_1))\n",
    "print(list_2)"
   ]
  },
  {
   "cell_type": "code",
   "execution_count": 20,
   "metadata": {},
   "outputs": [],
   "source": [
    "# project: p6\n",
    "# submitter: aharinarayan\n",
    "# partner: sramalingam"
   ]
  },
  {
   "cell_type": "code",
   "execution_count": 21,
   "metadata": {},
   "outputs": [
    {
     "data": {
      "text/plain": [
       "['Greece',\n",
       " 'Romania',\n",
       " 'Israel',\n",
       " 'Portugal',\n",
       " 'Chile',\n",
       " 'France',\n",
       " 'US',\n",
       " 'Bulgaria',\n",
       " 'Croatia',\n",
       " 'Argentina',\n",
       " 'India',\n",
       " 'Australia',\n",
       " 'New Zealand',\n",
       " 'Austria',\n",
       " 'Morocco',\n",
       " 'Germany',\n",
       " 'Moldova',\n",
       " 'Slovenia',\n",
       " 'Hungary',\n",
       " 'South Africa',\n",
       " 'Italy',\n",
       " 'Canada',\n",
       " 'Spain']"
      ]
     },
     "execution_count": 21,
     "metadata": {},
     "output_type": "execute_result"
    }
   ],
   "source": [
    "#q1\n",
    "def c():\n",
    "    list_1=[]\n",
    "    for i in range(len(csv_data)):\n",
    "        if type(cell(i,\"country\"))==str:\n",
    "            list_1=list_1+[cell(i,\"country\")]\n",
    "    list_1=list(set(list_1))\n",
    "    return list_1\n",
    "c()"
   ]
  },
  {
   "cell_type": "code",
   "execution_count": 22,
   "metadata": {},
   "outputs": [
    {
     "data": {
      "text/plain": [
       "39.40787623066104"
      ]
     },
     "execution_count": 22,
     "metadata": {},
     "output_type": "execute_result"
    }
   ],
   "source": [
    "#q2\n",
    "total=0.0\n",
    "j=0.0\n",
    "for i in range(len(csv_data)):\n",
    "    if type(cell(i,\"price\"))!=float:\n",
    "        j=j+1.0\n",
    "        continue\n",
    "    total=total+cell(i,\"price\")\n",
    "average=total/((i-j)+1)\n",
    "average"
   ]
  },
  {
   "cell_type": "code",
   "execution_count": 23,
   "metadata": {},
   "outputs": [
    {
     "data": {
      "text/plain": [
       "['Kumeu River', 'Spy Valley', 'Felton Road']"
      ]
     },
     "execution_count": 23,
     "metadata": {},
     "output_type": "execute_result"
    }
   ],
   "source": [
    "#q3\n",
    "def q3():\n",
    "    list_1=[]\n",
    "    for i in range(len(csv_data)):\n",
    "        flag=0\n",
    "        for j in range(0,i):\n",
    "            if cell(i,\"country\")==\"New Zealand\":\n",
    "                flag=1\n",
    "                if cell(i,\"winery\")==cell(j,\"winery\"):\n",
    "                    flag=2\n",
    "                    break\n",
    "        if flag==1:\n",
    "            list_1=list_1+[cell(i,\"winery\")]\n",
    "    return list_1\n",
    "\n",
    "q3()"
   ]
  },
  {
   "cell_type": "code",
   "execution_count": 24,
   "metadata": {},
   "outputs": [
    {
     "data": {
      "text/plain": [
       "['Meritage',\n",
       " 'Zinfandel',\n",
       " 'Sangiovese',\n",
       " 'Pinot Noir',\n",
       " 'Blaufränkisch',\n",
       " 'Bordeaux-style Red Blend',\n",
       " 'Merlot',\n",
       " 'Lemberger',\n",
       " 'Nebbiolo',\n",
       " 'Rosé',\n",
       " 'Cabernet Franc',\n",
       " 'Aglianico',\n",
       " 'Cabernet Sauvignon']"
      ]
     },
     "execution_count": 24,
     "metadata": {},
     "output_type": "execute_result"
    }
   ],
   "source": [
    "#q4\n",
    "def q4():\n",
    "    list_1=[]\n",
    "    for i in range(len(csv_data)):\n",
    "        des=cell(i,\"description\")\n",
    "        des=des.lower()\n",
    "        if (\"cranberry\" in des)==True:\n",
    "            list_1=list_1+[cell(i,\"variety\")]\n",
    "    return list(set(list_1))\n",
    "        \n",
    "q4()      "
   ]
  },
  {
   "cell_type": "code",
   "execution_count": 25,
   "metadata": {},
   "outputs": [
    {
     "data": {
      "text/plain": [
       "['Pinot Grigio', 'Chardonnay', 'Sparkling Blend']"
      ]
     },
     "execution_count": 25,
     "metadata": {},
     "output_type": "execute_result"
    }
   ],
   "source": [
    "#q5\n",
    "def q5():\n",
    "    list_1=[]\n",
    "    for i in range(len(csv_data)):\n",
    "        des=cell(i,\"description\")\n",
    "        des=des.lower()\n",
    "        if (\"lemon-lime soda\" in des)==True:\n",
    "            list_1=list_1+[cell(i,\"variety\")]\n",
    "    return list(set(list_1))\n",
    "\n",
    "q5()\n",
    "        "
   ]
  },
  {
   "cell_type": "code",
   "execution_count": 26,
   "metadata": {},
   "outputs": [
    {
     "data": {
      "text/plain": [
       "['Castelão', 'Red Blend', 'Tempranillo', 'Tinta de Toro', 'Cabernet Sauvignon']"
      ]
     },
     "execution_count": 26,
     "metadata": {},
     "output_type": "execute_result"
    }
   ],
   "source": [
    "#q6\n",
    "def q6():\n",
    "    list_1=[]\n",
    "    for i in range(len(csv_data)):\n",
    "        des=cell(i,\"description\")\n",
    "        des=des.lower()\n",
    "        if (\"black-fruit\" in des)==True:\n",
    "            list_1=list_1+[cell(i,\"variety\")]\n",
    "    return list(set(list_1))\n",
    "\n",
    "q6()\n",
    "        "
   ]
  },
  {
   "cell_type": "code",
   "execution_count": 27,
   "metadata": {},
   "outputs": [
    {
     "data": {
      "text/plain": [
       "['Cabernet Sauvignon']"
      ]
     },
     "execution_count": 27,
     "metadata": {},
     "output_type": "execute_result"
    }
   ],
   "source": [
    "#q7\n",
    "def q7():\n",
    "    list_1=[]\n",
    "    flag=1\n",
    "    for i in range(len(csv_data)):\n",
    "        var=cell(i,\"variety\")\n",
    "        var=var.lower()\n",
    "        abc=\"antibus governance\"\n",
    "        leng1=len(var)\n",
    "        leng2=len(abc)\n",
    "        if leng1!=leng2:\n",
    "            flag=0\n",
    "            break\n",
    "        else:\n",
    "            var=sorted(var)\n",
    "            abc=sorted(abc)\n",
    "            for j in range(0,leng1):\n",
    "                if var[j]!=abc[j]:\n",
    "                    flag=0\n",
    "        if flag==1:\n",
    "            list_1=list_1+[cell(i,\"variety\")]\n",
    "    return list(set(list_1))\n",
    "\n",
    "q7()\n",
    "        \n",
    "        \n",
    "        "
   ]
  },
  {
   "cell_type": "code",
   "execution_count": 28,
   "metadata": {},
   "outputs": [
    {
     "data": {
      "text/plain": [
       "123"
      ]
     },
     "execution_count": 28,
     "metadata": {},
     "output_type": "execute_result"
    }
   ],
   "source": [
    "#q8\n",
    "def q8():\n",
    "    list_1=[]\n",
    "    abc=\"Pinot Noir\"\n",
    "    for i in range(len(csv_data)):\n",
    "        var=cell(i,\"variety\")\n",
    "        if len(var)==len(abc):\n",
    "            if var == \"Pinot Noir\":\n",
    "                list_1=list_1+[cell(i,\"winery\")]\n",
    "    list_2=list(set(list_1))\n",
    "    return len(list_2)\n",
    "\n",
    "q8()"
   ]
  },
  {
   "cell_type": "code",
   "execution_count": 29,
   "metadata": {},
   "outputs": [
    {
     "data": {
      "text/plain": [
       "['Tinta de Toro']"
      ]
     },
     "execution_count": 29,
     "metadata": {},
     "output_type": "execute_result"
    }
   ],
   "source": [
    "#q9\n",
    "def q9():\n",
    "    list_1=[]\n",
    "    max=0\n",
    "    for i in range(len(csv_data)):\n",
    "        if cell(i,\"country\")==\"Spain\":\n",
    "            if cell(i,\"points\")>max:\n",
    "                max=cell(i,\"points\")\n",
    "                maxvar=cell(i,\"variety\")\n",
    "                list_1.append(cell(i,\"variety\"))\n",
    "            elif cell(i,\"points\")==max:\n",
    "                list_1=list_1+[cell(i,\"variety\")]\n",
    "            else:\n",
    "                continue\n",
    "    return list_1\n",
    "\n",
    "list_2=q9()\n",
    "list_2"
   ]
  },
  {
   "cell_type": "code",
   "execution_count": 30,
   "metadata": {},
   "outputs": [
    {
     "data": {
      "text/plain": [
       "['Gaja']"
      ]
     },
     "execution_count": 30,
     "metadata": {},
     "output_type": "execute_result"
    }
   ],
   "source": [
    "#q10\n",
    "list_2=[]\n",
    "max=0.0\n",
    "for i in range(len(csv_data)):\n",
    "    if cell(i,\"country\")==\"Italy\":\n",
    "        if type(cell(i,\"price\"))==float:\n",
    "            if float(cell(i,\"price\"))>max:\n",
    "                max=cell(i,\"price\")\n",
    "                maxvar=cell(i,\"winery\")\n",
    "                list_2=[]\n",
    "                list_2.append(cell(i,\"winery\"))\n",
    "            elif float(cell(i,\"price\"))==max:\n",
    "                list_2.append([cell(i,\"winery\")])\n",
    "            else:\n",
    "                continue\n",
    "        \n",
    "list_2"
   ]
  },
  {
   "cell_type": "code",
   "execution_count": 31,
   "metadata": {},
   "outputs": [],
   "source": [
    "def ppd(winery1):\n",
    "    total=0\n",
    "    count=0\n",
    "    average=0\n",
    "    for i in range(len(csv_data)):\n",
    "        if cell(i,\"winery\")==winery1:\n",
    "            if type(cell(i,\"points\"))==int and type(cell(i,\"price\"))==float:\n",
    "                total=total+int(cell(i,\"points\"))/float(cell(i,\"price\"))\n",
    "                count=count+1\n",
    "    if count==0:\n",
    "        count=1\n",
    "    average=total/count\n",
    "    return average\n",
    "    \n",
    "            "
   ]
  },
  {
   "cell_type": "code",
   "execution_count": 32,
   "metadata": {},
   "outputs": [
    {
     "data": {
      "text/plain": [
       "1.98628003003003"
      ]
     },
     "execution_count": 32,
     "metadata": {},
     "output_type": "execute_result"
    }
   ],
   "source": [
    "#q11\n",
    "ppd(\"Patricia Green Cellars\")"
   ]
  },
  {
   "cell_type": "code",
   "execution_count": 33,
   "metadata": {},
   "outputs": [
    {
     "data": {
      "text/plain": [
       "[]"
      ]
     },
     "execution_count": 33,
     "metadata": {},
     "output_type": "execute_result"
    }
   ],
   "source": [
    "max=0\n",
    "list_3=[]\n",
    "for i in range(len(csv_data)):\n",
    "    if ppd(cell(i,\"winery\"))>max:\n",
    "        max=ppd(cell(i,\"winery\"))\n",
    "        list_1=[ppd(cell(i,\"winery\"))]\n",
    "    elif ppd(cell(i,\"winery\")):\n",
    "        list_1=list_1+[cell(i,\"winery\")]\n",
    "    else:\n",
    "        continue\n",
    "\n",
    "list_3  "
   ]
  },
  {
   "cell_type": "code",
   "execution_count": 34,
   "metadata": {},
   "outputs": [
    {
     "data": {
      "text/plain": [
       "0.2923076923076923"
      ]
     },
     "execution_count": 34,
     "metadata": {},
     "output_type": "execute_result"
    }
   ],
   "source": [
    "#q12\n",
    "ppd(\"Hall\")"
   ]
  },
  {
   "cell_type": "code",
   "execution_count": null,
   "metadata": {},
   "outputs": [],
   "source": []
  },
  {
   "cell_type": "code",
   "execution_count": null,
   "metadata": {},
   "outputs": [],
   "source": []
  },
  {
   "cell_type": "code",
   "execution_count": null,
   "metadata": {},
   "outputs": [],
   "source": []
  },
  {
   "cell_type": "code",
   "execution_count": 35,
   "metadata": {},
   "outputs": [],
   "source": [
    "def ppdrmax(country1):\n",
    "    max=0;\n",
    "    list_10=[]\n",
    "    maxv=[]\n",
    "    for i in range(0,len(csv_data)):\n",
    "        if country1==cell(i,\"country\"):\n",
    "            list_10=list_10+[cell(i,\"winery\")]\n",
    "    for i in range(0,len(list_10)):\n",
    "        if ppd(list_10[i])>max:\n",
    "            max=ppd(list_10[i])\n",
    "            maxv=[list_10[i]]\n",
    "        elif ppd(list_10[i])==max:\n",
    "            maxv=maxv+[list_10[i]]\n",
    "        else:\n",
    "            continue\n",
    "    return maxv\n",
    "        \n",
    "        "
   ]
  },
  {
   "cell_type": "code",
   "execution_count": 36,
   "metadata": {},
   "outputs": [
    {
     "data": {
      "text/plain": [
       "['Grand Pacific']"
      ]
     },
     "execution_count": 36,
     "metadata": {},
     "output_type": "execute_result"
    }
   ],
   "source": [
    "#q13\n",
    "ppdrmax(\"US\")"
   ]
  },
  {
   "cell_type": "code",
   "execution_count": 37,
   "metadata": {},
   "outputs": [
    {
     "data": {
      "text/plain": [
       "['Long Neck', 'Essay', 'Robertson Winery', 'KWV']"
      ]
     },
     "execution_count": 37,
     "metadata": {},
     "output_type": "execute_result"
    }
   ],
   "source": [
    "#q14\n",
    "ppdrmax(\"South Africa\")"
   ]
  },
  {
   "cell_type": "code",
   "execution_count": 38,
   "metadata": {},
   "outputs": [],
   "source": [
    "def ppdrmin(country2):\n",
    "    \n",
    "    list_11=[]\n",
    "   \n",
    "    minv=[]\n",
    "    for i in range(0,len(csv_data)):\n",
    "        if country2==cell(i,\"country\"):\n",
    "            list_11=list_11+[cell(i,\"winery\")]\n",
    "    min=ppd(list_11[0])\n",
    "    for i in range(0,len(list_11)):\n",
    "        if ppd(list_11[i])<min:\n",
    "            min=ppd(list_11[i])\n",
    "            minv=[list_11[i]]\n",
    "        elif ppd(list_11[i])==min:\n",
    "            minv=minv+[list_11[i]]\n",
    "        else:\n",
    "            continue\n",
    "    return minv"
   ]
  },
  {
   "cell_type": "code",
   "execution_count": 39,
   "metadata": {},
   "outputs": [
    {
     "data": {
      "text/plain": [
       "['Bodega Las Cañitas']"
      ]
     },
     "execution_count": 39,
     "metadata": {},
     "output_type": "execute_result"
    }
   ],
   "source": [
    "#q15\n",
    "ppdrmin(\"Argentina\")"
   ]
  },
  {
   "cell_type": "code",
   "execution_count": 40,
   "metadata": {},
   "outputs": [],
   "source": [
    "def winevarieties(winery1):\n",
    "    list_1=[]\n",
    "    for i in range(0,len(csv_data)):\n",
    "        if winery1==cell(i,\"winery\"):\n",
    "            list_1=list_1+[cell(i,\"variety\")]\n",
    "    return list(set(list_1))"
   ]
  },
  {
   "cell_type": "code",
   "execution_count": 41,
   "metadata": {},
   "outputs": [
    {
     "data": {
      "text/plain": [
       "['Cabernet Franc']"
      ]
     },
     "execution_count": 41,
     "metadata": {},
     "output_type": "execute_result"
    }
   ],
   "source": [
    "#q16\n",
    "winevarieties(\"Ironstone\")"
   ]
  },
  {
   "cell_type": "code",
   "execution_count": 42,
   "metadata": {},
   "outputs": [
    {
     "data": {
      "text/plain": [
       "['Portuguese Red', 'Portuguese Rosé', 'Portuguese White']"
      ]
     },
     "execution_count": 42,
     "metadata": {},
     "output_type": "execute_result"
    }
   ],
   "source": [
    "#q17\n",
    "winevarieties(\"Quinta Nova de Nossa Senhora do Carmo\")"
   ]
  },
  {
   "cell_type": "code",
   "execution_count": 43,
   "metadata": {},
   "outputs": [
    {
     "data": {
      "text/plain": [
       "7.6923076923076925"
      ]
     },
     "execution_count": 43,
     "metadata": {},
     "output_type": "execute_result"
    }
   ],
   "source": [
    "#q18\n",
    "list_1=[]\n",
    "for i in range(len(csv_data)):\n",
    "    des=cell(i,\"description\")\n",
    "    des=des.lower()\n",
    "    if (\"cranberry\" in des)==True:\n",
    "        list_1=list_1+[cell(i,\"variety\")]\n",
    "list_1=(list(set(list_1)))\n",
    "\n",
    "list_2=[]\n",
    "for j in range(len(csv_data)):\n",
    "    des1=cell(j,\"description\")\n",
    "    des1=des1.lower()\n",
    "    if (\"black-fruit\" in des1)==True:\n",
    "        list_2=list_2+[cell(j,\"variety\")]\n",
    "list_2=(list(set(list_2)))\n",
    "list_3=[]\n",
    "for k in range(0,len(list_1)):\n",
    "    for l in range(0,len(list_2)):\n",
    "        if list_1[k]==list_2[l]:\n",
    "            list_3=list_3+[list_1[k]]\n",
    "            \n",
    "(len(list_3)/len(list_1))*100"
   ]
  },
  {
   "cell_type": "code",
   "execution_count": 44,
   "metadata": {},
   "outputs": [
    {
     "data": {
      "text/plain": [
       "130.0"
      ]
     },
     "execution_count": 44,
     "metadata": {},
     "output_type": "execute_result"
    }
   ],
   "source": [
    "#q19\n",
    "max=0.0\n",
    "for i in range(0,len(csv_data)):\n",
    "    if cell(i,\"country\")==\"Portugal\":\n",
    "        if type(cell(i,\"price\"))==float: \n",
    "            if cell(i,\"price\")>max:\n",
    "                max=cell(i,\"price\")\n",
    "max"
   ]
  },
  {
   "cell_type": "code",
   "execution_count": 45,
   "metadata": {},
   "outputs": [
    {
     "data": {
      "text/plain": [
       "281.0"
      ]
     },
     "execution_count": 45,
     "metadata": {},
     "output_type": "execute_result"
    }
   ],
   "source": [
    "#q20\n",
    "max=0.0\n",
    "for i in range(0,len(csv_data)):\n",
    "    if cell(i,\"country\")==\"Portugal\":\n",
    "        if type(cell(i,\"price\"))==float: \n",
    "            if cell(i,\"price\")>max:\n",
    "                max=cell(i,\"price\")\n",
    "\n",
    "min=max\n",
    "for j in range(0,len(csv_data)-1):\n",
    "    if cell(j,\"country\")==\"Portugal\":\n",
    "        if type(cell(j,\"price\"))==float: \n",
    "            if cell(j,\"price\")<min:\n",
    "                min=cell(j,\"price\")\n",
    "(max*2)+(min*3)\n"
   ]
  },
  {
   "cell_type": "code",
   "execution_count": null,
   "metadata": {},
   "outputs": [],
   "source": []
  }
 ],
 "metadata": {
  "kernelspec": {
   "display_name": "Python 3",
   "language": "python",
   "name": "python3"
  },
  "language_info": {
   "codemirror_mode": {
    "name": "ipython",
    "version": 3
   },
   "file_extension": ".py",
   "mimetype": "text/x-python",
   "name": "python",
   "nbconvert_exporter": "python",
   "pygments_lexer": "ipython3",
   "version": "3.8.3"
  }
 },
 "nbformat": 4,
 "nbformat_minor": 4
}
