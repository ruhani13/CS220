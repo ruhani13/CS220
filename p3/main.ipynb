{
 "cells": [
  {
   "cell_type": "code",
   "execution_count": 3,
   "metadata": {},
   "outputs": [],
   "source": [
    "# project: p3\n",
    "# submitter: rarora23\n",
    "# partner: none"
   ]
  },
  {
   "cell_type": "code",
   "execution_count": 4,
   "metadata": {},
   "outputs": [],
   "source": [
    "import project"
   ]
  },
  {
   "cell_type": "code",
   "execution_count": 5,
   "metadata": {},
   "outputs": [],
   "source": [
    "project.init(\"madison.csv\")"
   ]
  },
  {
   "cell_type": "code",
   "execution_count": 6,
   "metadata": {},
   "outputs": [
    {
     "data": {
      "text/plain": [
       "122"
      ]
     },
     "execution_count": 6,
     "metadata": {},
     "output_type": "execute_result"
    }
   ],
   "source": [
    "#q1 What is the agency ID of the stores agency?\n",
    "\n",
    "project.get_id(\"stores\")"
   ]
  },
  {
   "cell_type": "code",
   "execution_count": 7,
   "metadata": {},
   "outputs": [
    {
     "data": {
      "text/plain": [
       "68.06346877"
      ]
     },
     "execution_count": 7,
     "metadata": {},
     "output_type": "execute_result"
    }
   ],
   "source": [
    "#q2 How much did the agency with ID 3 spend in 2017?\n",
    "\n",
    "project.get_spending(3, year=2017)"
   ]
  },
  {
   "cell_type": "code",
   "execution_count": 8,
   "metadata": {},
   "outputs": [
    {
     "data": {
      "text/plain": [
       "19.13634773"
      ]
     },
     "execution_count": 8,
     "metadata": {},
     "output_type": "execute_result"
    }
   ],
   "source": [
    "#q3 How much did \"restaurants\" spend in 2019?\n",
    "\n",
    "project.get_spending(project.get_id(\"restaurants\"), 2019)"
   ]
  },
  {
   "cell_type": "code",
   "execution_count": 9,
   "metadata": {},
   "outputs": [],
   "source": [
    "def year_max(year):\n",
    "    # grab the spending by each agency in the given year\n",
    "    governments_spending = project.get_spending(project.get_id(\"governments\"), year)\n",
    "    gyms_spending = project.get_spending(project.get_id(\"gyms\"), year)\n",
    "    restaurants_spending = project.get_spending(project.get_id(\"restaurants\"), year)\n",
    "    schools_spending = project.get_spending(project.get_id(\"schools\"), year)\n",
    "    stores_spending = project.get_spending(project.get_id(\"stores\"), year)\n",
    "\n",
    "    # use builtin max function to get the largest of the five values\n",
    "    return max(governments_spending, gyms_spending, restaurants_spending, schools_spending, stores_spending)"
   ]
  },
  {
   "cell_type": "code",
   "execution_count": 10,
   "metadata": {},
   "outputs": [
    {
     "data": {
      "text/plain": [
       "180.37142104"
      ]
     },
     "execution_count": 10,
     "metadata": {},
     "output_type": "execute_result"
    }
   ],
   "source": [
    "#q4 What was the most spent by a single agency in 2017?\n",
    "\n",
    "year_max(2017)"
   ]
  },
  {
   "cell_type": "code",
   "execution_count": 11,
   "metadata": {},
   "outputs": [
    {
     "data": {
      "text/plain": [
       "77.87553504"
      ]
     },
     "execution_count": 11,
     "metadata": {},
     "output_type": "execute_result"
    }
   ],
   "source": [
    "#q5 What was the most spent by a single agency in 2020?\n",
    "\n",
    "year_max(2020)"
   ]
  },
  {
   "cell_type": "code",
   "execution_count": 12,
   "metadata": {},
   "outputs": [],
   "source": [
    "def agency_min(agency):\n",
    "    agency_id = project.get_id(agency)\n",
    "    y17 = project.get_spending(agency_id, 2017)\n",
    "    y18 = project.get_spending(agency_id, 2018)\n",
    "    # grab the other years\n",
    "    y19 = project.get_spending(agency_id, 2019)\n",
    "    y20 = project.get_spending(agency_id, 2020)\n",
    "    \n",
    "    # use the min function (similar to the max function)\n",
    "    # to get the minimum across the four years, and return\n",
    "    # that value\n",
    "    return min(y17, y18, y19, y20)"
   ]
  },
  {
   "cell_type": "code",
   "execution_count": 13,
   "metadata": {},
   "outputs": [
    {
     "data": {
      "text/plain": [
       "49.73757877"
      ]
     },
     "execution_count": 13,
     "metadata": {},
     "output_type": "execute_result"
    }
   ],
   "source": [
    "#q6 What was the least that gyms ever spent in a year?\n",
    "\n",
    "agency_min(\"gyms\")"
   ]
  },
  {
   "cell_type": "code",
   "execution_count": 14,
   "metadata": {},
   "outputs": [
    {
     "data": {
      "text/plain": [
       "19.159243279999995"
      ]
     },
     "execution_count": 14,
     "metadata": {},
     "output_type": "execute_result"
    }
   ],
   "source": [
    "#q7 What was the least that stores ever spent in a year?\n",
    "\n",
    "agency_min(\"stores\")"
   ]
  },
  {
   "cell_type": "code",
   "execution_count": 21,
   "metadata": {},
   "outputs": [],
   "source": [
    "def agency_avg(agency):\n",
    "    agency_id = project.get_id(agency)\n",
    "    y17 = project.get_spending(agency_id, 2017)\n",
    "    y18 = project.get_spending(agency_id, 2018)\n",
    "    y19 = project.get_spending(agency_id, 2019)\n",
    "    y20 = project.get_spending(agency_id, 2020)\n",
    "    \n",
    "    return (y17+ y18+ y19+ y20)/(y20-y17)"
   ]
  },
  {
   "cell_type": "code",
   "execution_count": 22,
   "metadata": {},
   "outputs": [
    {
     "data": {
      "text/plain": [
       "44.46493731949481"
      ]
     },
     "execution_count": 22,
     "metadata": {},
     "output_type": "execute_result"
    }
   ],
   "source": [
    "#q8 How much is spent per year on governments, on average?\n",
    "\n",
    "agency_avg(\"governments\")"
   ]
  },
  {
   "cell_type": "code",
   "execution_count": 15,
   "metadata": {},
   "outputs": [
    {
     "data": {
      "text/plain": [
       "18.5180922925"
      ]
     },
     "execution_count": 15,
     "metadata": {},
     "output_type": "execute_result"
    }
   ],
   "source": [
    "#q9 How much is spent per year on restaurants, on average?\n",
    "\n",
    "agency_avg(\"restaurants\")"
   ]
  },
  {
   "cell_type": "code",
   "execution_count": 16,
   "metadata": {},
   "outputs": [
    {
     "data": {
      "text/plain": [
       "1.195455545247126"
      ]
     },
     "execution_count": 16,
     "metadata": {},
     "output_type": "execute_result"
    }
   ],
   "source": [
    "#q10 How much did the gyms spend above their average in 2019?\n",
    "\n",
    "((project.get_spending(project.get_id(\"gyms\"), 2019) - agency_avg(\"gyms\"))/agency_avg(\"gyms\"))*100"
   ]
  },
  {
   "cell_type": "code",
   "execution_count": 17,
   "metadata": {},
   "outputs": [],
   "source": [
    "def max_spending_agency(start_year=2018, end_year=2020):\n",
    "    max_agency = (None, None)\n",
    "    for agency in [\"governments\", \"gyms\", \"restaurants\", \"schools\", \"stores\"]:\n",
    "        _sum = sum([project.get_spending(project.get_id(agency), year=year) for year in range(start_year, end_year+1)])\n",
    "        max_agency = (agency, _sum) if (max_agency == (None, None) or max_agency[1] < _sum) else max_agency\n",
    "    \n",
    "    return max_agency[0]"
   ]
  },
  {
   "cell_type": "code",
   "execution_count": 18,
   "metadata": {},
   "outputs": [
    {
     "data": {
      "text/plain": [
       "'schools'"
      ]
     },
     "execution_count": 18,
     "metadata": {},
     "output_type": "execute_result"
    }
   ],
   "source": [
    "#q11 Which agency has the maximum overall spending from 2018 to 2020?\n",
    "\n",
    "max_spending_agency()"
   ]
  },
  {
   "cell_type": "code",
   "execution_count": 19,
   "metadata": {},
   "outputs": [
    {
     "data": {
      "text/plain": [
       "'stores'"
      ]
     },
     "execution_count": 19,
     "metadata": {},
     "output_type": "execute_result"
    }
   ],
   "source": [
    "#q12 Which agency has the maximum overall spending from 2017 to 2019?\n",
    "\n",
    "max_spending_agency(2017, 2019)"
   ]
  },
  {
   "cell_type": "code",
   "execution_count": 20,
   "metadata": {},
   "outputs": [],
   "source": [
    "def change_per_year(agency, start_year=2017, end_year=2020):\n",
    "    agency_id = project.get_id(agency)\n",
    "    return (project.get_spending(agency_id, end_year) - project.get_spending(agency_id, start_year))/(end_year-start_year)\n",
    "     "
   ]
  },
  {
   "cell_type": "code",
   "execution_count": 21,
   "metadata": {},
   "outputs": [
    {
     "data": {
      "text/plain": [
       "-53.53690368"
      ]
     },
     "execution_count": 21,
     "metadata": {},
     "output_type": "execute_result"
    }
   ],
   "source": [
    "#q13 how much has spending increased per year (on average) for stores from 2017 to 2020?\n",
    "\n",
    "change_per_year(\"stores\")"
   ]
  },
  {
   "cell_type": "code",
   "execution_count": 22,
   "metadata": {},
   "outputs": [
    {
     "data": {
      "text/plain": [
       "0.3007333600000024"
      ]
     },
     "execution_count": 22,
     "metadata": {},
     "output_type": "execute_result"
    }
   ],
   "source": [
    "#q14 how much has spending increased per year (on average) for stores from 2018 to 2020?\n",
    "\n",
    "change_per_year(\"stores\",2018,2020)"
   ]
  },
  {
   "cell_type": "code",
   "execution_count": 23,
   "metadata": {},
   "outputs": [],
   "source": [
    "def extrapolate(agency, year1, year2, year3):\n",
    "    agency_id = project.get_id(agency)\n",
    "    avg = change_per_year(agency,year1,year2)\n",
    "    return (year3-year2)*avg + project.get_spending(project.get_id(agency),year2)\n",
    "    \n",
    "    "
   ]
  },
  {
   "cell_type": "code",
   "execution_count": 24,
   "metadata": {},
   "outputs": [
    {
     "data": {
      "text/plain": [
       "23.510019659999983"
      ]
     },
     "execution_count": 24,
     "metadata": {},
     "output_type": "execute_result"
    }
   ],
   "source": [
    "#q15 how much will governments spend in 2021?\n",
    "\n",
    "extrapolate(\"governments\", 2018, 2019, 2021)"
   ]
  },
  {
   "cell_type": "code",
   "execution_count": 25,
   "metadata": {},
   "outputs": [
    {
     "data": {
      "text/plain": [
       "88.6268421999999"
      ]
     },
     "execution_count": 25,
     "metadata": {},
     "output_type": "execute_result"
    }
   ],
   "source": [
    "#q16 how much will restaurants spend in 2100?\n",
    "\n",
    "extrapolate(\"restaurants\", 2018, 2020, 2100)"
   ]
  },
  {
   "cell_type": "code",
   "execution_count": 26,
   "metadata": {},
   "outputs": [
    {
     "data": {
      "text/plain": [
       "993.6683869066669"
      ]
     },
     "execution_count": 26,
     "metadata": {},
     "output_type": "execute_result"
    }
   ],
   "source": [
    "#q17 how much will schools spend in 2300?\n",
    "\n",
    "extrapolate(\"schools\", 2017, 2020, 2300)"
   ]
  },
  {
   "cell_type": "code",
   "execution_count": 27,
   "metadata": {},
   "outputs": [],
   "source": [
    "def extrapolate_error(agency,y1,y2,y3):\n",
    "    return extrapolate(agency, y1, y2, y3) - project.get_spending(project.get_id(agency),y3) "
   ]
  },
  {
   "cell_type": "code",
   "execution_count": 28,
   "metadata": {},
   "outputs": [
    {
     "data": {
      "text/plain": [
       "-0.8952411000000211"
      ]
     },
     "execution_count": 28,
     "metadata": {},
     "output_type": "execute_result"
    }
   ],
   "source": [
    "#q18 what is the error if we extrapolate to 2020 from the 2018-to-2019 data for gyms?\n",
    "\n",
    "extrapolate_error(\"gyms\",2018,2019,2020)"
   ]
  },
  {
   "cell_type": "code",
   "execution_count": 29,
   "metadata": {},
   "outputs": [
    {
     "data": {
      "text/plain": [
       "-1.7977023315859557"
      ]
     },
     "execution_count": 29,
     "metadata": {},
     "output_type": "execute_result"
    }
   ],
   "source": [
    "#q19 what is the percent error if we extrapolate to 2020 from the 2017-to-2019 data for governments?\n",
    "\n",
    "y = extrapolate_error(\"governments\",2017,2019,2020)\n",
    "per_error = y*100/project.get_spending(project.get_id(\"governments\"),2020) \n",
    "per_error"
   ]
  },
  {
   "cell_type": "code",
   "execution_count": 30,
   "metadata": {},
   "outputs": [
    {
     "data": {
      "text/plain": [
       "69.69770863072543"
      ]
     },
     "execution_count": 30,
     "metadata": {},
     "output_type": "execute_result"
    }
   ],
   "source": [
    "#q20 what is the standard deviation for stores spending over the 4 years?\n",
    "\n",
    "mean = agency_avg(\"stores\")\n",
    "d1 = (project.get_spending(project.get_id(\"stores\"), 2017) - agency_avg(\"stores\"))**2\n",
    "d2 = (project.get_spending(project.get_id(\"stores\"), 2018) - agency_avg(\"stores\"))**2\n",
    "d3 = (project.get_spending(project.get_id(\"stores\"), 2019) - agency_avg(\"stores\"))**2\n",
    "d4 = (project.get_spending(project.get_id(\"stores\"), 2020) - agency_avg(\"stores\"))**2\n",
    "var = (d1+d2+d3+d4)/4\n",
    "var\n",
    "sd = var**0.5\n",
    "sd"
   ]
  },
  {
   "cell_type": "code",
   "execution_count": null,
   "metadata": {},
   "outputs": [],
   "source": []
  }
 ],
 "metadata": {
  "kernelspec": {
   "display_name": "Python 3",
   "language": "python",
   "name": "python3"
  },
  "language_info": {
   "codemirror_mode": {
    "name": "ipython",
    "version": 3
   },
   "file_extension": ".py",
   "mimetype": "text/x-python",
   "name": "python",
   "nbconvert_exporter": "python",
   "pygments_lexer": "ipython3",
   "version": "3.8.3"
  }
 },
 "nbformat": 4,
 "nbformat_minor": 4
}
