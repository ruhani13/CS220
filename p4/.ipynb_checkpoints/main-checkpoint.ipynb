{
 "cells": [
  {
   "cell_type": "code",
   "execution_count": 1,
   "metadata": {},
   "outputs": [],
   "source": [
    "# project: p4\n",
    "# submitter: rarora23\n",
    "# partner: tramesh"
   ]
  },
  {
   "cell_type": "code",
   "execution_count": 2,
   "metadata": {},
   "outputs": [],
   "source": [
    "import project\n",
    "import math"
   ]
  },
  {
   "cell_type": "code",
   "execution_count": 3,
   "metadata": {},
   "outputs": [],
   "source": [
    "def simple_battle(pkmn1, pkmn2):\n",
    "    stat_p1 = project.get_hp(pkmn1) + project.get_attack(pkmn1)+ project.get_defense(pkmn1)+project.get_sp_atk(pkmn1)+ project.get_sp_def(pkmn1)+project.get_speed(pkmn1)\n",
    "    stat_p2 = project.get_hp(pkmn2) + project.get_attack(pkmn2)+ project.get_defense(pkmn2)+project.get_sp_atk(pkmn2)+ project.get_sp_def(pkmn2)+project.get_speed(pkmn2)\n",
    "    if abs(stat_p1 - stat_p2) > 300:\n",
    "        if stat_p1 > stat_p2:\n",
    "            return (pkmn2+ \" ran away\")\n",
    "        else :\n",
    "            return (pkmn1+ \" ran away\")\n",
    "    elif stat_p1 > stat_p2:\n",
    "        return pkmn1\n",
    "    elif stat_p1 < stat_p2 :\n",
    "        return pkmn2\n",
    "    elif stat_p1 == stat_p2:\n",
    "        return 'Draw'"
   ]
  },
  {
   "cell_type": "code",
   "execution_count": 4,
   "metadata": {},
   "outputs": [
    {
     "data": {
      "text/plain": [
       "'Snorunt'"
      ]
     },
     "execution_count": 4,
     "metadata": {},
     "output_type": "execute_result"
    }
   ],
   "source": [
    "#q1 What is the output of simple_battle('Snorunt', 'Starly')? \n",
    "simple_battle('Snorunt', 'Starly')"
   ]
  },
  {
   "cell_type": "code",
   "execution_count": 5,
   "metadata": {},
   "outputs": [
    {
     "data": {
      "text/plain": [
       "'Staravia'"
      ]
     },
     "execution_count": 5,
     "metadata": {},
     "output_type": "execute_result"
    }
   ],
   "source": [
    "#q2 What is the output of simple_battle('Snorunt', 'Staravia')?\n",
    "simple_battle('Snorunt', 'Staravia')"
   ]
  },
  {
   "cell_type": "code",
   "execution_count": 6,
   "metadata": {},
   "outputs": [
    {
     "data": {
      "text/plain": [
       "'Draw'"
      ]
     },
     "execution_count": 6,
     "metadata": {},
     "output_type": "execute_result"
    }
   ],
   "source": [
    "#q3 What is the output of simple_battle('Chikorita', 'Turtwig')?\n",
    "simple_battle('Chikorita', 'Turtwig')"
   ]
  },
  {
   "cell_type": "code",
   "execution_count": 7,
   "metadata": {},
   "outputs": [
    {
     "data": {
      "text/plain": [
       "'Caterpie ran away'"
      ]
     },
     "execution_count": 7,
     "metadata": {},
     "output_type": "execute_result"
    }
   ],
   "source": [
    "#q4 What is the output of simple_battle('Caterpie', 'Melmetal')?\n",
    "simple_battle('Caterpie', 'Melmetal')"
   ]
  },
  {
   "cell_type": "code",
   "execution_count": 8,
   "metadata": {},
   "outputs": [
    {
     "data": {
      "text/plain": [
       "'Dragonite'"
      ]
     },
     "execution_count": 8,
     "metadata": {},
     "output_type": "execute_result"
    }
   ],
   "source": [
    "#q5 What is the output of simple_battle('Dragonite', 'Snorunt')?\n",
    "simple_battle('Dragonite', 'Snorunt')"
   ]
  },
  {
   "cell_type": "code",
   "execution_count": 9,
   "metadata": {},
   "outputs": [],
   "source": [
    "def most_damage(attacker, defender):\n",
    "    physical_damage = 10 * project.get_attack(attacker)/project.get_defense(defender)\n",
    "    special_damage =  10 * project.get_sp_atk(attacker)/project.get_sp_def(defender)\n",
    "    if physical_damage > special_damage :\n",
    "        return physical_damage\n",
    "    else:\n",
    "        return special_damage"
   ]
  },
  {
   "cell_type": "code",
   "execution_count": 10,
   "metadata": {},
   "outputs": [],
   "source": [
    "#test-case\n",
    "#most_damage('Scraggy', 'Tranquill') "
   ]
  },
  {
   "cell_type": "code",
   "execution_count": 11,
   "metadata": {},
   "outputs": [
    {
     "data": {
      "text/plain": [
       "33.5"
      ]
     },
     "execution_count": 11,
     "metadata": {},
     "output_type": "execute_result"
    }
   ],
   "source": [
    "#q6 How much damage does Dragonite do to Rockruff?\n",
    "most_damage('Dragonite', 'Rockruff')"
   ]
  },
  {
   "cell_type": "code",
   "execution_count": 12,
   "metadata": {},
   "outputs": [
    {
     "data": {
      "text/plain": [
       "14.222222222222221"
      ]
     },
     "execution_count": 12,
     "metadata": {},
     "output_type": "execute_result"
    }
   ],
   "source": [
    "#q7 How much damage does Quilava do to Grovyle?\n",
    "most_damage('Quilava', 'Grovyle')"
   ]
  },
  {
   "cell_type": "code",
   "execution_count": 13,
   "metadata": {},
   "outputs": [
    {
     "data": {
      "text/plain": [
       "12.5"
      ]
     },
     "execution_count": 13,
     "metadata": {},
     "output_type": "execute_result"
    }
   ],
   "source": [
    "#q8 How much damage does Goomy do to Beedrill?\n",
    "most_damage('Goomy', 'Beedrill')"
   ]
  },
  {
   "cell_type": "code",
   "execution_count": 14,
   "metadata": {},
   "outputs": [
    {
     "data": {
      "text/plain": [
       "8.076923076923077"
      ]
     },
     "execution_count": 14,
     "metadata": {},
     "output_type": "execute_result"
    }
   ],
   "source": [
    "#q9 How much damage does Tepig do to Charizard?\n",
    "most_damage('Tepig', 'Charizard')"
   ]
  },
  {
   "cell_type": "code",
   "execution_count": 15,
   "metadata": {},
   "outputs": [],
   "source": [
    "def num_hits(attacker, defender):\n",
    "    return math.ceil(project.get_hp(defender)/most_damage(attacker,defender))"
   ]
  },
  {
   "cell_type": "code",
   "execution_count": 16,
   "metadata": {},
   "outputs": [
    {
     "data": {
      "text/plain": [
       "3"
      ]
     },
     "execution_count": 16,
     "metadata": {},
     "output_type": "execute_result"
    }
   ],
   "source": [
    "#q10 How many hits can Goomy take from Gible?\n",
    "num_hits(\"Gible\", \"Goomy\")"
   ]
  },
  {
   "cell_type": "code",
   "execution_count": 17,
   "metadata": {},
   "outputs": [
    {
     "data": {
      "text/plain": [
       "14"
      ]
     },
     "execution_count": 17,
     "metadata": {},
     "output_type": "execute_result"
    }
   ],
   "source": [
    "#q11 How many hits can Donphan take from Aipom?\n",
    "num_hits(\"Aipom\", \"Donphan\")"
   ]
  },
  {
   "cell_type": "code",
   "execution_count": 18,
   "metadata": {},
   "outputs": [
    {
     "data": {
      "text/plain": [
       "3"
      ]
     },
     "execution_count": 18,
     "metadata": {},
     "output_type": "execute_result"
    }
   ],
   "source": [
    "#q12 How many hits can Aipom take from Donphan?\n",
    "num_hits(\"Donphan\",\"Aipom\")"
   ]
  },
  {
   "cell_type": "code",
   "execution_count": 19,
   "metadata": {},
   "outputs": [],
   "source": [
    "def battle(pkmn1, pkmn2):\n",
    "    num_p1 = num_hits(pkmn1,pkmn2)\n",
    "    num_p2 = num_hits(pkmn2, pkmn1)\n",
    "    if abs(num_p1 - num_p2) > 10:\n",
    "        if num_p1 > num_p2:\n",
    "            return (pkmn1+ \" ran away\")\n",
    "        else :\n",
    "            return (pkmn2+ \" ran away\")\n",
    "    elif num_p1 == num_p2:\n",
    "        if project.get_speed(pkmn1) == project.get_speed(pkmn2):\n",
    "            return \"Draw\"\n",
    "        elif project.get_speed(pkmn1) > project.get_speed(pkmn2):\n",
    "            return pkmn1 \n",
    "        else:\n",
    "            return pkmn2\n",
    "    elif num_p1 < num_p2:\n",
    "        return pkmn1\n",
    "    else:\n",
    "        return pkmn2"
   ]
  },
  {
   "cell_type": "code",
   "execution_count": 20,
   "metadata": {},
   "outputs": [
    {
     "data": {
      "text/plain": [
       "'Scraggy'"
      ]
     },
     "execution_count": 20,
     "metadata": {},
     "output_type": "execute_result"
    }
   ],
   "source": [
    "#q13 What is the output of battle('Scraggy', 'Krabby')?\n",
    "battle('Scraggy', 'Krabby')"
   ]
  },
  {
   "cell_type": "code",
   "execution_count": 21,
   "metadata": {},
   "outputs": [
    {
     "data": {
      "text/plain": [
       "'Charizard'"
      ]
     },
     "execution_count": 21,
     "metadata": {},
     "output_type": "execute_result"
    }
   ],
   "source": [
    "#q14 What is the output of battle('Charizard', 'Krabby')?\n",
    "battle('Charizard', 'Krabby')"
   ]
  },
  {
   "cell_type": "code",
   "execution_count": 22,
   "metadata": {},
   "outputs": [
    {
     "data": {
      "text/plain": [
       "'Draw'"
      ]
     },
     "execution_count": 22,
     "metadata": {},
     "output_type": "execute_result"
    }
   ],
   "source": [
    "#q15 What is the output of battle('Treecko', 'Litten')?\n",
    "battle('Treecko', 'Litten')"
   ]
  },
  {
   "cell_type": "code",
   "execution_count": 23,
   "metadata": {},
   "outputs": [
    {
     "data": {
      "text/plain": [
       "'Buizel'"
      ]
     },
     "execution_count": 23,
     "metadata": {},
     "output_type": "execute_result"
    }
   ],
   "source": [
    "#q16 What is the output of battle('Treecko', 'Buizel')?\n",
    "battle('Treecko', 'Buizel')"
   ]
  },
  {
   "cell_type": "code",
   "execution_count": 24,
   "metadata": {},
   "outputs": [
    {
     "data": {
      "text/plain": [
       "'Metapod ran away'"
      ]
     },
     "execution_count": 24,
     "metadata": {},
     "output_type": "execute_result"
    }
   ],
   "source": [
    "#q17 What is the output of battle('Metapod', 'Talonflame')?\n",
    "battle('Metapod', 'Talonflame')"
   ]
  },
  {
   "cell_type": "code",
   "execution_count": 25,
   "metadata": {},
   "outputs": [
    {
     "data": {
      "text/plain": [
       "'Noibat ran away'"
      ]
     },
     "execution_count": 25,
     "metadata": {},
     "output_type": "execute_result"
    }
   ],
   "source": [
    "#q18 What is the output of battle('Leavanny', 'Noibat')?\n",
    "battle('Leavanny', 'Noibat')"
   ]
  },
  {
   "cell_type": "code",
   "execution_count": 26,
   "metadata": {},
   "outputs": [],
   "source": [
    "def final_battle(pkmn1, pkmn2):\n",
    "    if project.get_type1(pkmn1) == 'Flying' or project.get_type2(pkmn1) == 'Flying' or project.get_type1(pkmn2) == 'Flying' or project.get_type2(pkmn2) == 'Flying':\n",
    "        return battle(pkmn1, pkmn2)\n",
    "    elif project.get_region(pkmn1) == project.get_region(pkmn2):\n",
    "        return battle(pkmn1,pkmn2)\n",
    "    else:\n",
    "        return 'Cannot battle'"
   ]
  },
  {
   "cell_type": "code",
   "execution_count": 27,
   "metadata": {},
   "outputs": [
    {
     "data": {
      "text/plain": [
       "'Cannot battle'"
      ]
     },
     "execution_count": 27,
     "metadata": {},
     "output_type": "execute_result"
    }
   ],
   "source": [
    "#q19 What is the output of final_battle('Grotle', 'Roggenrola')?\n",
    "final_battle('Grotle', 'Roggenrola')"
   ]
  },
  {
   "cell_type": "code",
   "execution_count": 28,
   "metadata": {},
   "outputs": [
    {
     "data": {
      "text/plain": [
       "'Goodra'"
      ]
     },
     "execution_count": 28,
     "metadata": {},
     "output_type": "execute_result"
    }
   ],
   "source": [
    "#q20 What is the output of final_battle('Starly', 'Goodra')?\n",
    "final_battle('Starly', 'Goodra')"
   ]
  }
 ],
 "metadata": {
  "kernelspec": {
   "display_name": "Python 3",
   "language": "python",
   "name": "python3"
  },
  "language_info": {
   "codemirror_mode": {
    "name": "ipython",
    "version": 3
   },
   "file_extension": ".py",
   "mimetype": "text/x-python",
   "name": "python",
   "nbconvert_exporter": "python",
   "pygments_lexer": "ipython3",
   "version": "3.8.3"
  }
 },
 "nbformat": 4,
 "nbformat_minor": 4
}
