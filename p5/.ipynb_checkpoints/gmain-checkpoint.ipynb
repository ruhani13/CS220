{
 "cells": [
  {
   "cell_type": "code",
   "execution_count": 1,
   "metadata": {},
   "outputs": [],
   "source": [
    "# project: p5\n",
    "# submitter: kdgursahani\n",
    "# partner: gsoni"
   ]
  },
  {
   "cell_type": "code",
   "execution_count": 2,
   "metadata": {},
   "outputs": [
    {
     "data": {
      "text/plain": [
       "['__builtins__',\n",
       " '__cached__',\n",
       " '__doc__',\n",
       " '__file__',\n",
       " '__hurricane__',\n",
       " '__init__',\n",
       " '__loader__',\n",
       " '__name__',\n",
       " '__package__',\n",
       " '__spec__',\n",
       " 'count',\n",
       " 'get_damage',\n",
       " 'get_deaths',\n",
       " 'get_dissipated',\n",
       " 'get_formed',\n",
       " 'get_mph',\n",
       " 'get_name']"
      ]
     },
     "execution_count": 2,
     "metadata": {},
     "output_type": "execute_result"
    }
   ],
   "source": [
    "import project\n",
    "from project import *\n",
    "dir(project)"
   ]
  },
  {
   "cell_type": "code",
   "execution_count": 3,
   "metadata": {},
   "outputs": [
    {
     "data": {
      "text/plain": [
       "133"
      ]
     },
     "execution_count": 3,
     "metadata": {},
     "output_type": "execute_result"
    }
   ],
   "source": [
    "#q1\n",
    "project.count()"
   ]
  },
  {
   "cell_type": "code",
   "execution_count": 4,
   "metadata": {},
   "outputs": [
    {
     "data": {
      "text/plain": [
       "'Omar'"
      ]
     },
     "execution_count": 4,
     "metadata": {},
     "output_type": "execute_result"
    }
   ],
   "source": [
    "#q2\n",
    "project.get_name(-1)"
   ]
  },
  {
   "cell_type": "code",
   "execution_count": 5,
   "metadata": {},
   "outputs": [
    {
     "data": {
      "text/plain": [
       "72"
      ]
     },
     "execution_count": 5,
     "metadata": {},
     "output_type": "execute_result"
    }
   ],
   "source": [
    "#q3\n",
    "get_deaths(10)"
   ]
  },
  {
   "cell_type": "code",
   "execution_count": 6,
   "metadata": {},
   "outputs": [
    {
     "data": {
      "text/plain": [
       "True"
      ]
     },
     "execution_count": 6,
     "metadata": {},
     "output_type": "execute_result"
    }
   ],
   "source": [
    "#q4\n",
    "def check():\n",
    "    flag = 0\n",
    "    for i in range(project.count()):\n",
    "        if get_name(i)==\"Bob\":\n",
    "            flag = 1\n",
    "            break\n",
    "    if flag == 1:\n",
    "        return True\n",
    "    else:\n",
    "        return False\n",
    "check()\n",
    "      "
   ]
  },
  {
   "cell_type": "code",
   "execution_count": 7,
   "metadata": {},
   "outputs": [
    {
     "data": {
      "text/plain": [
       "3"
      ]
     },
     "execution_count": 7,
     "metadata": {},
     "output_type": "execute_result"
    }
   ],
   "source": [
    "#q5\n",
    "def q5():\n",
    "    counter = 0\n",
    "    for i in range(project.count()):\n",
    "        if get_name(i).lower()==\"florence\":\n",
    "            counter += 1\n",
    "    return counter\n",
    "        \n",
    "q5()"
   ]
  },
  {
   "cell_type": "code",
   "execution_count": 8,
   "metadata": {},
   "outputs": [
    {
     "data": {
      "text/plain": [
       "190"
      ]
     },
     "execution_count": 8,
     "metadata": {},
     "output_type": "execute_result"
    }
   ],
   "source": [
    "#q6\n",
    "def maxmph():\n",
    "    mph = 0\n",
    "    for i in range(count()):\n",
    "        if get_mph(i)>mph:\n",
    "            mph = get_mph(i)\n",
    "            j = i\n",
    "    return j\n",
    "        \n",
    "\n",
    "get_mph(maxmph())"
   ]
  },
  {
   "cell_type": "code",
   "execution_count": 9,
   "metadata": {},
   "outputs": [
    {
     "data": {
      "text/plain": [
       "'Allen'"
      ]
     },
     "execution_count": 9,
     "metadata": {},
     "output_type": "execute_result"
    }
   ],
   "source": [
    "#q7\n",
    "get_name(maxmph())\n"
   ]
  },
  {
   "cell_type": "code",
   "execution_count": null,
   "metadata": {},
   "outputs": [],
   "source": [
    "def format_damage(damage):\n",
    "     if damage[-1] == \"B\":\n",
    "        return float(damage[:-1])*1000000000\n",
    "     elif damage[-1] == 'K':\n",
    "        return float(damage[:-1])*10**3\n",
    "     elif damage[-1] == 'M':\n",
    "        return float(damage[:-1])*10**6\n",
    "\n",
    "        "
   ]
  },
  {
   "cell_type": "code",
   "execution_count": null,
   "metadata": {},
   "outputs": [],
   "source": [
    "#q8\n",
    "format_damage(get_damage(maxmph()))"
   ]
  },
  {
   "cell_type": "code",
   "execution_count": null,
   "metadata": {},
   "outputs": [],
   "source": [
    "#q9\n",
    "def total_deaths():\n",
    "    td = 0\n",
    "    for i in range(count()):\n",
    "        td += get_deaths(i)\n",
    "    return td\n",
    "total_deaths()"
   ]
  },
  {
   "cell_type": "code",
   "execution_count": null,
   "metadata": {},
   "outputs": [],
   "source": [
    "def deadliest_in_range(year1 = 1500, year2 = 3000 ):\n",
    "    worst_idx = 0\n",
    "    deadliest = 0 \n",
    "    for i in range(project.count()):\n",
    "        if int(get_formed(i)[-4:]) >= year1 and int(get_formed(i)[-4:]) <= year2:  # TODO: check if year is in range\n",
    "            if get_deaths(i) > deadliest:  # TODO: it is worse than previous?\n",
    "                deadliest = get_deaths(i)\n",
    "                worst_idx = i\n",
    "    return worst_idx"
   ]
  },
  {
   "cell_type": "code",
   "execution_count": null,
   "metadata": {},
   "outputs": [],
   "source": [
    "#q10\n",
    "get_name(deadliest_in_range(2010,2020))"
   ]
  },
  {
   "cell_type": "code",
   "execution_count": null,
   "metadata": {},
   "outputs": [],
   "source": [
    "#q11\n",
    "get_name(deadliest_in_range(1901,2000))"
   ]
  },
  {
   "cell_type": "code",
   "execution_count": null,
   "metadata": {},
   "outputs": [],
   "source": [
    "#q12\n",
    "get_formed(deadliest_in_range())[-4:]"
   ]
  },
  {
   "cell_type": "code",
   "execution_count": null,
   "metadata": {},
   "outputs": [],
   "source": [
    "#q13\n",
    "format_damage(get_damage(deadliest_in_range(2001,2100)))"
   ]
  },
  {
   "cell_type": "code",
   "execution_count": null,
   "metadata": {},
   "outputs": [],
   "source": [
    "#q14\n",
    "def total_damage():\n",
    "    td = 0\n",
    "    for i in range(count()):\n",
    "        td += format_damage(get_damage(i))\n",
    "    return td\n",
    "total_damage()"
   ]
  },
  {
   "cell_type": "code",
   "execution_count": null,
   "metadata": {},
   "outputs": [],
   "source": [
    "#q15\n",
    "def hurricanes_in_month(mm):\n",
    "    num_of_hurricanes = 0\n",
    "    for i in range(project.count()):\n",
    "        if int(get_formed(i)[0:2]) == mm:\n",
    "            num_of_hurricanes += 1\n",
    "    return num_of_hurricanes\n",
    "hurricanes_in_month(6)"
   ]
  },
  {
   "cell_type": "code",
   "execution_count": null,
   "metadata": {},
   "outputs": [],
   "source": [
    "#q16\n",
    "hurricanes_in_month(1)"
   ]
  },
  {
   "cell_type": "code",
   "execution_count": null,
   "metadata": {},
   "outputs": [],
   "source": [
    "#q17\n",
    "def max_h():\n",
    "    mh = 0\n",
    "    for i in range(12):\n",
    "        if hurricanes_in_month(i+1) > mh:\n",
    "            mh = i\n",
    "    return mh\n",
    "        \n",
    "\n",
    "max_h()"
   ]
  },
  {
   "cell_type": "code",
   "execution_count": null,
   "metadata": {},
   "outputs": [],
   "source": [
    "#q18\n",
    "def total_hurricanes(year1, year2):\n",
    "    th = 0\n",
    "    for i in range(project.count()):\n",
    "        if int(get_formed(i)[-4:]) >= year1 and int(get_formed(i)[-4:]) <= year2:\n",
    "            th += 1\n",
    "    return th\n",
    "total_hurricanes(1990, 1999)\n",
    "    "
   ]
  },
  {
   "cell_type": "code",
   "execution_count": null,
   "metadata": {},
   "outputs": [],
   "source": [
    "#q19\n",
    "\n",
    "countyears=0 \n",
    "for idx in range(2021):\n",
    "     for i in range(count()):\n",
    "        x = project.get_deaths(i)\n",
    "        if int(get_formed(i)[-4:])==idx:\n",
    "            if x>200:\n",
    "                countyears=countyears+1\n",
    "countyears\n",
    "\n",
    "\n",
    "            \n",
    "            \n",
    "        "
   ]
  },
  {
   "cell_type": "code",
   "execution_count": null,
   "metadata": {},
   "outputs": [],
   "source": [
    "#q20\n",
    "counteryears=0\n",
    "for idx in range(2021):\n",
    "    for i in range(count()):\n",
    "        p = format_damage(project.get_damage(i))\n",
    "        if int(get_formed(i)[-4:])==idx:\n",
    "            if p > 10000000000:\n",
    "                counteryears = counteryears+1\n",
    "                break\n",
    "counteryears"
   ]
  },
  {
   "cell_type": "code",
   "execution_count": null,
   "metadata": {},
   "outputs": [],
   "source": []
  }
 ],
 "metadata": {
  "kernelspec": {
   "display_name": "Python 3",
   "language": "python",
   "name": "python3"
  },
  "language_info": {
   "codemirror_mode": {
    "name": "ipython",
    "version": 3
   },
   "file_extension": ".py",
   "mimetype": "text/x-python",
   "name": "python",
   "nbconvert_exporter": "python",
   "pygments_lexer": "ipython3",
   "version": "3.8.3"
  }
 },
 "nbformat": 4,
 "nbformat_minor": 4
}
