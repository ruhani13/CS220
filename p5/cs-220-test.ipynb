{
 "cells": [
  {
   "cell_type": "code",
   "execution_count": 1,
   "metadata": {},
   "outputs": [],
   "source": [
    "# project: p5\n",
    "# submitter: rarora23\n",
    "# partner: munjal3"
   ]
  },
  {
   "cell_type": "code",
   "execution_count": 2,
   "metadata": {},
   "outputs": [],
   "source": [
    "import project"
   ]
  },
  {
   "cell_type": "code",
   "execution_count": 3,
   "metadata": {},
   "outputs": [
    {
     "data": {
      "text/plain": [
       "133"
      ]
     },
     "execution_count": 3,
     "metadata": {},
     "output_type": "execute_result"
    }
   ],
   "source": [
    "#q1 How many records are in the dataset? \n",
    "project.count()"
   ]
  },
  {
   "cell_type": "code",
   "execution_count": 4,
   "metadata": {},
   "outputs": [
    {
     "data": {
      "text/plain": [
       "'Lenny'"
      ]
     },
     "execution_count": 4,
     "metadata": {},
     "output_type": "execute_result"
    }
   ],
   "source": [
    "#q2 What is the name of the hurricane at last but one index?\n",
    "project.get_name(project.count()-2)"
   ]
  },
  {
   "cell_type": "code",
   "execution_count": 5,
   "metadata": {},
   "outputs": [
    {
     "data": {
      "text/plain": [
       "756"
      ]
     },
     "execution_count": 5,
     "metadata": {},
     "output_type": "execute_result"
    }
   ],
   "source": [
    "#q3 How many deaths were caused by the hurricane at index 24?\n",
    "project.get_deaths(24)"
   ]
  },
  {
   "cell_type": "code",
   "execution_count": 6,
   "metadata": {},
   "outputs": [
    {
     "data": {
      "text/plain": [
       "3"
      ]
     },
     "execution_count": 6,
     "metadata": {},
     "output_type": "execute_result"
    }
   ],
   "source": [
    "#q4  How many hurricanes named Florence are in the dataset?\n",
    "count = 0\n",
    "x = \"FLORENCE\"\n",
    "for i in range(project.count()):\n",
    "    name = project.get_name(i)\n",
    "    if name.upper() == x:\n",
    "        count +=1\n",
    "count"
   ]
  },
  {
   "cell_type": "code",
   "execution_count": 7,
   "metadata": {},
   "outputs": [
    {
     "data": {
      "text/plain": [
       "68"
      ]
     },
     "execution_count": 7,
     "metadata": {},
     "output_type": "execute_result"
    }
   ],
   "source": [
    "#q5 What is the number of unique deaths in the dataset?\n",
    "number_of_uniq_deaths = [] \n",
    "for i in range(project.count()):\n",
    "    if not project.get_deaths(i) in number_of_uniq_deaths: \n",
    "        number_of_uniq_deaths.append(project.get_deaths(i)) \n",
    "len(number_of_uniq_deaths)"
   ]
  },
  {
   "cell_type": "code",
   "execution_count": 8,
   "metadata": {},
   "outputs": [
    {
     "data": {
      "text/plain": [
       "'Allen'"
      ]
     },
     "execution_count": 8,
     "metadata": {},
     "output_type": "execute_result"
    }
   ],
   "source": [
    "#q6 What is the name of the fastest hurricane?\n",
    "def maxh():\n",
    "    mph = 0\n",
    "    maxim = 0\n",
    "    for i in range(project.count()):\n",
    "        if project.get_mph(i)>mph:\n",
    "            mph = project.get_mph(i)\n",
    "            maxim = i\n",
    "    return maxim\n",
    "        \n",
    "project.get_name(maxh())"
   ]
  },
  {
   "cell_type": "code",
   "execution_count": 9,
   "metadata": {},
   "outputs": [
    {
     "data": {
      "text/plain": [
       "124.47368421052632"
      ]
     },
     "execution_count": 9,
     "metadata": {},
     "output_type": "execute_result"
    }
   ],
   "source": [
    "#q7 What is the average MPH achieved by all hurricanes?\n",
    "def avg_mph():\n",
    "    avg = 0\n",
    "    for i in range(project.count()):\n",
    "        avg += project.get_mph(i)\n",
    "    return avg/project.count()\n",
    "avg_mph()   "
   ]
  },
  {
   "cell_type": "code",
   "execution_count": 10,
   "metadata": {},
   "outputs": [],
   "source": [
    "#creating a function to convert suffix to int\n",
    "def format_damage(damage):\n",
    "     if damage[-1] == \"B\":\n",
    "        return (int) (float(damage[:-1])*10**9)\n",
    "     elif damage[-1] == 'K':\n",
    "        return (int) (float (damage[:-1])*10**3)\n",
    "     elif damage[-1] == 'M':\n",
    "        return (int) (float (damage[:-1])*10**6)"
   ]
  },
  {
   "cell_type": "code",
   "execution_count": 11,
   "metadata": {},
   "outputs": [
    {
     "data": {
      "text/plain": [
       "6502484699"
      ]
     },
     "execution_count": 11,
     "metadata": {},
     "output_type": "execute_result"
    }
   ],
   "source": [
    "#q8 What is the average damage (in dollars) caused by all hurricanes?\n",
    "def avg_dam():\n",
    "    avd = 0\n",
    "    for i in range(project.count()):\n",
    "        avd += format_damage(project.get_damage(i))\n",
    "    return int(avd/project.count())\n",
    "avg_dam()"
   ]
  },
  {
   "cell_type": "code",
   "execution_count": 12,
   "metadata": {},
   "outputs": [
    {
     "data": {
      "text/plain": [
       "77"
      ]
     },
     "execution_count": 12,
     "metadata": {},
     "output_type": "execute_result"
    }
   ],
   "source": [
    "#q9 How many deaths did hurricane 'Floyd' cause in total?\n",
    "def flyd():\n",
    "    x = \"floyd\"\n",
    "    tot_dt = 0\n",
    "    for i in range(project.count()):\n",
    "        if project.get_name(i).lower() == \"floyd\":\n",
    "            tot_dt += project.get_deaths(i)\n",
    "    return tot_dt\n",
    "flyd()                    "
   ]
  },
  {
   "cell_type": "code",
   "execution_count": 13,
   "metadata": {},
   "outputs": [],
   "source": [
    "#creating function to find deadliest hurricane\n",
    "def deadliest_in_range(year1, year2):\n",
    "    worst_idx = 0\n",
    "    h = 0\n",
    "    for i in range(project.count()):\n",
    "        if int(project.get_formed(i)[-4:]) >= year1 and int(project.get_formed(i)[-4:]) <= year2:\n",
    "            if worst_idx == None or worst_idx < project.get_deaths(i):  \n",
    "                worst_idx = project.get_deaths(i)\n",
    "                h = i                 \n",
    "    return h"
   ]
  },
  {
   "cell_type": "code",
   "execution_count": 14,
   "metadata": {},
   "outputs": [
    {
     "data": {
      "text/plain": [
       "'Maria'"
      ]
     },
     "execution_count": 14,
     "metadata": {},
     "output_type": "execute_result"
    }
   ],
   "source": [
    "#q10 What is the deadliest hurricane between 2000 and 2020 (inclusive)?\n",
    "project.get_name(deadliest_in_range(2000, 2020))"
   ]
  },
  {
   "cell_type": "code",
   "execution_count": 15,
   "metadata": {},
   "outputs": [
    {
     "data": {
      "text/plain": [
       "'San Ciriaco'"
      ]
     },
     "execution_count": 15,
     "metadata": {},
     "output_type": "execute_result"
    }
   ],
   "source": [
    "#q11 What is the deadliest hurricane ever recorded?\n",
    "project.get_name(deadliest_in_range(1899, 2020))"
   ]
  },
  {
   "cell_type": "code",
   "execution_count": 16,
   "metadata": {},
   "outputs": [
    {
     "data": {
      "text/plain": [
       "'1966'"
      ]
     },
     "execution_count": 16,
     "metadata": {},
     "output_type": "execute_result"
    }
   ],
   "source": [
    "#q12 In what year did the most deadly hurricane form in 20th century (1901, 2000, inclusive)?\n",
    "project.get_formed(deadliest_in_range(1901,2000))[-4:]"
   ]
  },
  {
   "cell_type": "code",
   "execution_count": 17,
   "metadata": {},
   "outputs": [
    {
     "data": {
      "text/plain": [
       "7940000000"
      ]
     },
     "execution_count": 17,
     "metadata": {},
     "output_type": "execute_result"
    }
   ],
   "source": [
    "#q13 How much damage (in dollars) was done by the deadliest hurricane in the last decade (2000 ,2010, inclusive)?\n",
    "format_damage(project.get_damage(deadliest_in_range(2000,2010)))"
   ]
  },
  {
   "cell_type": "code",
   "execution_count": 18,
   "metadata": {},
   "outputs": [
    {
     "data": {
      "text/plain": [
       "263027139999"
      ]
     },
     "execution_count": 18,
     "metadata": {},
     "output_type": "execute_result"
    }
   ],
   "source": [
    "#q14 What is the total damage across all hurricanes that formed in the month of September, in dollars?\n",
    "def dam_sep(m1):\n",
    "    sd = 0\n",
    "    for i in range(project.count()):\n",
    "        if int(project.get_formed(i)[:2]) == m1:\n",
    "            sd += format_damage(project.get_damage(i))\n",
    "    return sd\n",
    "dam_sep(9)"
   ]
  },
  {
   "cell_type": "code",
   "execution_count": 19,
   "metadata": {},
   "outputs": [
    {
     "data": {
      "text/plain": [
       "3"
      ]
     },
     "execution_count": 19,
     "metadata": {},
     "output_type": "execute_result"
    }
   ],
   "source": [
    "#q15 How many hurricanes were formed in the month of December?\n",
    "def hurricanes_in_month(mm):\n",
    "    num_of_hurricanes = 0\n",
    "    for i in range(project.count()):\n",
    "        if int(project.get_formed(i)[:2]) == mm:\n",
    "            num_of_hurricanes += 1\n",
    "    return num_of_hurricanes\n",
    "\n",
    "\n",
    "hurricanes_in_month(12)"
   ]
  },
  {
   "cell_type": "code",
   "execution_count": 20,
   "metadata": {},
   "outputs": [
    {
     "data": {
      "text/plain": [
       "102"
      ]
     },
     "execution_count": 20,
     "metadata": {},
     "output_type": "execute_result"
    }
   ],
   "source": [
    "#q16 How many hurricanes formed between August and November (inclusive)?\n",
    "def mth_hurr(m1, m2):\n",
    "    count = 0\n",
    "    for i in range(project.count()):\n",
    "        if int(project.get_formed(i)[:2]) >= m1 and int(project.get_formed(i)[:2]) <= m2:\n",
    "            count += 1\n",
    "    return count\n",
    "mth_hurr(8,11)\n",
    "    "
   ]
  },
  {
   "cell_type": "code",
   "execution_count": 21,
   "metadata": {
    "scrolled": true
   },
   "outputs": [
    {
     "data": {
      "text/plain": [
       "3"
      ]
     },
     "execution_count": 21,
     "metadata": {},
     "output_type": "execute_result"
    }
   ],
   "source": [
    "#q17 Which month experienced the formation of least number of hurricanes?\n",
    "def least_hurr():\n",
    "    lst = None\n",
    "    for i in range(1,13):\n",
    "        if lst == None or hurricanes_in_month(i) <  hurricanes_in_month(lst) :\n",
    "            lst = i\n",
    "        \n",
    "    return lst\n",
    "\n",
    "least_hurr()"
   ]
  },
  {
   "cell_type": "code",
   "execution_count": 22,
   "metadata": {},
   "outputs": [
    {
     "data": {
      "text/plain": [
       "17"
      ]
     },
     "execution_count": 22,
     "metadata": {},
     "output_type": "execute_result"
    }
   ],
   "source": [
    "#q18 How many hurricanes were formed in this decade 2010-2020 (inclusive)?\n",
    "def yr_hurr(year1, year2):\n",
    "    num = 0\n",
    "    for i in range(project.count()):\n",
    "        if int(project.get_formed(i)[-4:]) >= year1 and int(project.get_formed(i)[-4:]) <= year2:\n",
    "            num += 1\n",
    "    return num\n",
    "yr_hurr(2010, 2020)"
   ]
  },
  {
   "cell_type": "code",
   "execution_count": 23,
   "metadata": {},
   "outputs": [
    {
     "data": {
      "text/plain": [
       "4"
      ]
     },
     "execution_count": 23,
     "metadata": {},
     "output_type": "execute_result"
    }
   ],
   "source": [
    "#q19 How many years in the history experienced a hurricane that caused more than 1000 in deaths?\n",
    "year_list = []\n",
    "for i in range(project.count()):\n",
    "    year = project.get_formed(i)[-4:] \n",
    "    if project.get_deaths(i)>1000 and (not year in year_list): \n",
    "        year_list.append(year) \n",
    "len(year_list)"
   ]
  },
  {
   "cell_type": "code",
   "execution_count": 24,
   "metadata": {},
   "outputs": [
    {
     "data": {
      "text/plain": [
       "17"
      ]
     },
     "execution_count": 24,
     "metadata": {},
     "output_type": "execute_result"
    }
   ],
   "source": [
    "#q20 How many years in the history experienced a hurricane that was faster than 150 mph?\n",
    "year_list = []\n",
    "for i in range(project.count()):\n",
    "    year = project.get_formed(i)[-4:] \n",
    "    if project.get_mph(i)>150 and (not year in year_list):  \n",
    "        year_list.append(year)\n",
    "len(year_list)"
   ]
  }
 ],
 "metadata": {
  "kernelspec": {
   "display_name": "Python 3",
   "language": "python",
   "name": "python3"
  },
  "language_info": {
   "codemirror_mode": {
    "name": "ipython",
    "version": 3
   },
   "file_extension": ".py",
   "mimetype": "text/x-python",
   "name": "python",
   "nbconvert_exporter": "python",
   "pygments_lexer": "ipython3",
   "version": "3.8.3"
  }
 },
 "nbformat": 4,
 "nbformat_minor": 4
}
